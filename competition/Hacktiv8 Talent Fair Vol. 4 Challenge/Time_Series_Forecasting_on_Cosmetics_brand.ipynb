{
  "nbformat": 4,
  "nbformat_minor": 0,
  "metadata": {
    "colab": {
      "provenance": [],
      "collapsed_sections": [
        "82cECB6i6e4M",
        "RkMZCSP66mSt",
        "02pbEVj08QQE",
        "QTBLiEiC-O8-",
        "8EaBs3VPIobl",
        "sgVVomaoIvGr",
        "dqpoVKExJEJZ",
        "GIVlCvKoYaPh",
        "G7MiaxgoA84o",
        "EX4BJC9FNHM0",
        "R8vPMB8sNPxg",
        "OkSUQSUzwuBy",
        "SdpcnObiNqmU",
        "FiUOnRFq6oYk"
      ],
      "toc_visible": true
    },
    "kernelspec": {
      "name": "python3",
      "display_name": "Python 3"
    },
    "language_info": {
      "name": "python"
    }
  },
  "cells": [
    {
      "cell_type": "markdown",
      "source": [
        "# Hacktiv8 Talent Fair Vol. 4 Challenge\n",
        "# Time-Series Forecasting on Cosmetics brand "
      ],
      "metadata": {
        "id": "u43M8xdH6OV0"
      }
    },
    {
      "cell_type": "markdown",
      "source": [
        "# Introduction "
      ],
      "metadata": {
        "id": "82cECB6i6e4M"
      }
    },
    {
      "cell_type": "markdown",
      "source": [
        "  Nama : Rizqi Golda\n",
        "\n",
        "  Batch : FTDS-018-RMT\n",
        "\n",
        "  Dataset : `sample_dataset_timeseries_noarea.csv`\n",
        "\n",
        "   Dataset ini berisi informasi histori sales penjualan di setiap barang pada tiap minggu\n",
        "\n",
        "  Objective :\n",
        "\n",
        "          Memprediksi penjualan di satu periode setelahnya.\n",
        "          Model yang dibuat mempunyai nilai akurasi yang baik.\n",
        "          Dapat menjelaskan metodologi pada setiap jalan.\n",
        "          Dapat membuat data chart pada model inference.\n",
        "\n",
        "\n",
        "\n"
      ],
      "metadata": {
        "id": "zfxhXb2g6syX"
      }
    },
    {
      "cell_type": "markdown",
      "source": [
        "# External Link "
      ],
      "metadata": {
        "id": "o1I6an7F6iP3"
      }
    },
    {
      "cell_type": "markdown",
      "source": [
        "# Working Area "
      ],
      "metadata": {
        "id": "RkMZCSP66mSt"
      }
    },
    {
      "cell_type": "markdown",
      "source": [
        "## Install and Import Library "
      ],
      "metadata": {
        "id": "02pbEVj08QQE"
      }
    },
    {
      "cell_type": "markdown",
      "source": [
        "disini saya menginstal `library` yang diperlukan untuk kegiatan *forecasting* data pada periode berikutnya."
      ],
      "metadata": {
        "id": "3kOwOw1lERRk"
      }
    },
    {
      "cell_type": "code",
      "source": [
        "! pip install pmdarima"
      ],
      "metadata": {
        "colab": {
          "base_uri": "https://localhost:8080/"
        },
        "id": "T56M6CWAEQa1",
        "outputId": "d3f1f877-ee96-4ac3-8b66-99b9f5f58a05"
      },
      "execution_count": 48,
      "outputs": [
        {
          "output_type": "stream",
          "name": "stdout",
          "text": [
            "Looking in indexes: https://pypi.org/simple, https://us-python.pkg.dev/colab-wheels/public/simple/\n",
            "Collecting pmdarima\n",
            "  Downloading pmdarima-2.0.3-cp39-cp39-manylinux_2_17_x86_64.manylinux2014_x86_64.manylinux_2_28_x86_64.whl (1.9 MB)\n",
            "\u001b[2K     \u001b[90m━━━━━━━━━━━━━━━━━━━━━━━━━━━━━━━━━━━━━━━━\u001b[0m \u001b[32m1.9/1.9 MB\u001b[0m \u001b[31m14.2 MB/s\u001b[0m eta \u001b[36m0:00:00\u001b[0m\n",
            "\u001b[?25hRequirement already satisfied: Cython!=0.29.18,!=0.29.31,>=0.29 in /usr/local/lib/python3.9/dist-packages (from pmdarima) (0.29.34)\n",
            "Requirement already satisfied: joblib>=0.11 in /usr/local/lib/python3.9/dist-packages (from pmdarima) (1.2.0)\n",
            "Requirement already satisfied: pandas>=0.19 in /usr/local/lib/python3.9/dist-packages (from pmdarima) (1.5.3)\n",
            "Requirement already satisfied: numpy>=1.21.2 in /usr/local/lib/python3.9/dist-packages (from pmdarima) (1.22.4)\n",
            "Requirement already satisfied: scikit-learn>=0.22 in /usr/local/lib/python3.9/dist-packages (from pmdarima) (1.2.2)\n",
            "Requirement already satisfied: urllib3 in /usr/local/lib/python3.9/dist-packages (from pmdarima) (1.26.15)\n",
            "Requirement already satisfied: scipy>=1.3.2 in /usr/local/lib/python3.9/dist-packages (from pmdarima) (1.10.1)\n",
            "Requirement already satisfied: setuptools!=50.0.0,>=38.6.0 in /usr/local/lib/python3.9/dist-packages (from pmdarima) (67.6.1)\n",
            "Requirement already satisfied: statsmodels>=0.13.2 in /usr/local/lib/python3.9/dist-packages (from pmdarima) (0.13.5)\n",
            "Requirement already satisfied: python-dateutil>=2.8.1 in /usr/local/lib/python3.9/dist-packages (from pandas>=0.19->pmdarima) (2.8.2)\n",
            "Requirement already satisfied: pytz>=2020.1 in /usr/local/lib/python3.9/dist-packages (from pandas>=0.19->pmdarima) (2022.7.1)\n",
            "Requirement already satisfied: threadpoolctl>=2.0.0 in /usr/local/lib/python3.9/dist-packages (from scikit-learn>=0.22->pmdarima) (3.1.0)\n",
            "Requirement already satisfied: patsy>=0.5.2 in /usr/local/lib/python3.9/dist-packages (from statsmodels>=0.13.2->pmdarima) (0.5.3)\n",
            "Requirement already satisfied: packaging>=21.3 in /usr/local/lib/python3.9/dist-packages (from statsmodels>=0.13.2->pmdarima) (23.0)\n",
            "Requirement already satisfied: six in /usr/local/lib/python3.9/dist-packages (from patsy>=0.5.2->statsmodels>=0.13.2->pmdarima) (1.16.0)\n",
            "Installing collected packages: pmdarima\n",
            "Successfully installed pmdarima-2.0.3\n"
          ]
        }
      ]
    },
    {
      "cell_type": "markdown",
      "source": [
        "memasukkan semua library yang diperlukan selama proses `forecasting`"
      ],
      "metadata": {
        "id": "XKld8TG98-ZX"
      }
    },
    {
      "cell_type": "code",
      "source": [
        "import numpy as np\n",
        "import pandas as pd\n",
        "import matplotlib.pyplot as plt\n",
        "import plotly.express as px\n",
        "import seaborn as sns\n",
        "import matplotlib.patches as mpatches\n",
        "\n",
        "# Library Model Time Series\n",
        "from statsmodels.tsa.stattools import adfuller\n",
        "from statsmodels.graphics.tsaplots import plot_acf, plot_pacf\n",
        "from statsmodels.tsa.arima.model import ARIMA\n",
        "from statsmodels.graphics.tsaplots import plot_predict\n",
        "from statsmodels.tsa.api import ExponentialSmoothing\n",
        "from statsmodels.tsa.seasonal import STL\n",
        "from pmdarima.arima import ADFTest, auto_arima\n",
        "\n",
        "# Library Evaluasi\n",
        "from sklearn.metrics import mean_absolute_error, mean_absolute_percentage_error\n",
        "\n",
        "import warnings\n",
        "warnings.filterwarnings('ignore')"
      ],
      "metadata": {
        "id": "FIfI1VWw8ht5"
      },
      "execution_count": 295,
      "outputs": []
    },
    {
      "cell_type": "markdown",
      "source": [
        "## Data Loading"
      ],
      "metadata": {
        "id": "f8LJUGNF9k-x"
      }
    },
    {
      "cell_type": "markdown",
      "source": [
        "mengambil dataset dari *github*"
      ],
      "metadata": {
        "id": "PZdZCTzzP8X_"
      }
    },
    {
      "cell_type": "code",
      "source": [
        "datasheet = pd.read_csv('https://raw.githubusercontent.com/ardhiraka/talent_fair_sample_challenge/main/datasets/sample_dataset_timeseries_noarea.csv')"
      ],
      "metadata": {
        "id": "XhZXbDNr9pcg"
      },
      "execution_count": 2,
      "outputs": []
    },
    {
      "cell_type": "markdown",
      "source": [
        "melihat 5 data teratas"
      ],
      "metadata": {
        "id": "cOs1BKDHQHKn"
      }
    },
    {
      "cell_type": "code",
      "source": [
        "datasheet.head()"
      ],
      "metadata": {
        "colab": {
          "base_uri": "https://localhost:8080/",
          "height": 206
        },
        "id": "-mI_l0o59rqZ",
        "outputId": "a0434b13-ad42-4765-eb62-f002ada2e549"
      },
      "execution_count": 9,
      "outputs": [
        {
          "output_type": "execute_result",
          "data": {
            "text/plain": [
              "  week_number week_start_date week_end_date                      product_item  \\\n",
              "0     2021-52      2021-12-27    2022-01-02  0073377087c7ddace313ff829cd7b0b3   \n",
              "1     2021-52      2021-12-27    2022-01-02  012d2bb142b2d5e57330acbfd8e9ac52   \n",
              "2     2021-52      2021-12-27    2022-01-02  0192926e33d1153b63511a5b83eca843   \n",
              "3     2021-52      2021-12-27    2022-01-02  019502f6d13e383caa9b9673bf1302f8   \n",
              "4     2021-52      2021-12-27    2022-01-02  01e7ca6d4e21badc1d4225b6b2c7bd9e   \n",
              "\n",
              "   quantity  \n",
              "0        41  \n",
              "1       430  \n",
              "2         4  \n",
              "3       148  \n",
              "4       119  "
            ],
            "text/html": [
              "\n",
              "  <div id=\"df-4faa99ab-e601-42ae-a3d2-7cb2ac3c0919\">\n",
              "    <div class=\"colab-df-container\">\n",
              "      <div>\n",
              "<style scoped>\n",
              "    .dataframe tbody tr th:only-of-type {\n",
              "        vertical-align: middle;\n",
              "    }\n",
              "\n",
              "    .dataframe tbody tr th {\n",
              "        vertical-align: top;\n",
              "    }\n",
              "\n",
              "    .dataframe thead th {\n",
              "        text-align: right;\n",
              "    }\n",
              "</style>\n",
              "<table border=\"1\" class=\"dataframe\">\n",
              "  <thead>\n",
              "    <tr style=\"text-align: right;\">\n",
              "      <th></th>\n",
              "      <th>week_number</th>\n",
              "      <th>week_start_date</th>\n",
              "      <th>week_end_date</th>\n",
              "      <th>product_item</th>\n",
              "      <th>quantity</th>\n",
              "    </tr>\n",
              "  </thead>\n",
              "  <tbody>\n",
              "    <tr>\n",
              "      <th>0</th>\n",
              "      <td>2021-52</td>\n",
              "      <td>2021-12-27</td>\n",
              "      <td>2022-01-02</td>\n",
              "      <td>0073377087c7ddace313ff829cd7b0b3</td>\n",
              "      <td>41</td>\n",
              "    </tr>\n",
              "    <tr>\n",
              "      <th>1</th>\n",
              "      <td>2021-52</td>\n",
              "      <td>2021-12-27</td>\n",
              "      <td>2022-01-02</td>\n",
              "      <td>012d2bb142b2d5e57330acbfd8e9ac52</td>\n",
              "      <td>430</td>\n",
              "    </tr>\n",
              "    <tr>\n",
              "      <th>2</th>\n",
              "      <td>2021-52</td>\n",
              "      <td>2021-12-27</td>\n",
              "      <td>2022-01-02</td>\n",
              "      <td>0192926e33d1153b63511a5b83eca843</td>\n",
              "      <td>4</td>\n",
              "    </tr>\n",
              "    <tr>\n",
              "      <th>3</th>\n",
              "      <td>2021-52</td>\n",
              "      <td>2021-12-27</td>\n",
              "      <td>2022-01-02</td>\n",
              "      <td>019502f6d13e383caa9b9673bf1302f8</td>\n",
              "      <td>148</td>\n",
              "    </tr>\n",
              "    <tr>\n",
              "      <th>4</th>\n",
              "      <td>2021-52</td>\n",
              "      <td>2021-12-27</td>\n",
              "      <td>2022-01-02</td>\n",
              "      <td>01e7ca6d4e21badc1d4225b6b2c7bd9e</td>\n",
              "      <td>119</td>\n",
              "    </tr>\n",
              "  </tbody>\n",
              "</table>\n",
              "</div>\n",
              "      <button class=\"colab-df-convert\" onclick=\"convertToInteractive('df-4faa99ab-e601-42ae-a3d2-7cb2ac3c0919')\"\n",
              "              title=\"Convert this dataframe to an interactive table.\"\n",
              "              style=\"display:none;\">\n",
              "        \n",
              "  <svg xmlns=\"http://www.w3.org/2000/svg\" height=\"24px\"viewBox=\"0 0 24 24\"\n",
              "       width=\"24px\">\n",
              "    <path d=\"M0 0h24v24H0V0z\" fill=\"none\"/>\n",
              "    <path d=\"M18.56 5.44l.94 2.06.94-2.06 2.06-.94-2.06-.94-.94-2.06-.94 2.06-2.06.94zm-11 1L8.5 8.5l.94-2.06 2.06-.94-2.06-.94L8.5 2.5l-.94 2.06-2.06.94zm10 10l.94 2.06.94-2.06 2.06-.94-2.06-.94-.94-2.06-.94 2.06-2.06.94z\"/><path d=\"M17.41 7.96l-1.37-1.37c-.4-.4-.92-.59-1.43-.59-.52 0-1.04.2-1.43.59L10.3 9.45l-7.72 7.72c-.78.78-.78 2.05 0 2.83L4 21.41c.39.39.9.59 1.41.59.51 0 1.02-.2 1.41-.59l7.78-7.78 2.81-2.81c.8-.78.8-2.07 0-2.86zM5.41 20L4 18.59l7.72-7.72 1.47 1.35L5.41 20z\"/>\n",
              "  </svg>\n",
              "      </button>\n",
              "      \n",
              "  <style>\n",
              "    .colab-df-container {\n",
              "      display:flex;\n",
              "      flex-wrap:wrap;\n",
              "      gap: 12px;\n",
              "    }\n",
              "\n",
              "    .colab-df-convert {\n",
              "      background-color: #E8F0FE;\n",
              "      border: none;\n",
              "      border-radius: 50%;\n",
              "      cursor: pointer;\n",
              "      display: none;\n",
              "      fill: #1967D2;\n",
              "      height: 32px;\n",
              "      padding: 0 0 0 0;\n",
              "      width: 32px;\n",
              "    }\n",
              "\n",
              "    .colab-df-convert:hover {\n",
              "      background-color: #E2EBFA;\n",
              "      box-shadow: 0px 1px 2px rgba(60, 64, 67, 0.3), 0px 1px 3px 1px rgba(60, 64, 67, 0.15);\n",
              "      fill: #174EA6;\n",
              "    }\n",
              "\n",
              "    [theme=dark] .colab-df-convert {\n",
              "      background-color: #3B4455;\n",
              "      fill: #D2E3FC;\n",
              "    }\n",
              "\n",
              "    [theme=dark] .colab-df-convert:hover {\n",
              "      background-color: #434B5C;\n",
              "      box-shadow: 0px 1px 3px 1px rgba(0, 0, 0, 0.15);\n",
              "      filter: drop-shadow(0px 1px 2px rgba(0, 0, 0, 0.3));\n",
              "      fill: #FFFFFF;\n",
              "    }\n",
              "  </style>\n",
              "\n",
              "      <script>\n",
              "        const buttonEl =\n",
              "          document.querySelector('#df-4faa99ab-e601-42ae-a3d2-7cb2ac3c0919 button.colab-df-convert');\n",
              "        buttonEl.style.display =\n",
              "          google.colab.kernel.accessAllowed ? 'block' : 'none';\n",
              "\n",
              "        async function convertToInteractive(key) {\n",
              "          const element = document.querySelector('#df-4faa99ab-e601-42ae-a3d2-7cb2ac3c0919');\n",
              "          const dataTable =\n",
              "            await google.colab.kernel.invokeFunction('convertToInteractive',\n",
              "                                                     [key], {});\n",
              "          if (!dataTable) return;\n",
              "\n",
              "          const docLinkHtml = 'Like what you see? Visit the ' +\n",
              "            '<a target=\"_blank\" href=https://colab.research.google.com/notebooks/data_table.ipynb>data table notebook</a>'\n",
              "            + ' to learn more about interactive tables.';\n",
              "          element.innerHTML = '';\n",
              "          dataTable['output_type'] = 'display_data';\n",
              "          await google.colab.output.renderOutput(dataTable, element);\n",
              "          const docLink = document.createElement('div');\n",
              "          docLink.innerHTML = docLinkHtml;\n",
              "          element.appendChild(docLink);\n",
              "        }\n",
              "      </script>\n",
              "    </div>\n",
              "  </div>\n",
              "  "
            ]
          },
          "metadata": {},
          "execution_count": 9
        }
      ]
    },
    {
      "cell_type": "markdown",
      "source": [
        "melihat 5 data terbawah"
      ],
      "metadata": {
        "id": "i6Klt1YCQODz"
      }
    },
    {
      "cell_type": "code",
      "source": [
        "datasheet.tail()"
      ],
      "metadata": {
        "colab": {
          "base_uri": "https://localhost:8080/",
          "height": 206
        },
        "id": "-6gfTgUg9st2",
        "outputId": "4bf95293-2e06-4309-af16-19a66a46d7dc"
      },
      "execution_count": 5,
      "outputs": [
        {
          "output_type": "execute_result",
          "data": {
            "text/plain": [
              "       week_number week_start_date week_end_date  \\\n",
              "102728     2023-14      2023-04-03    2023-04-09   \n",
              "102729     2023-14      2023-04-03    2023-04-09   \n",
              "102730     2023-14      2023-04-03    2023-04-09   \n",
              "102731     2023-14      2023-04-03    2023-04-09   \n",
              "102732     2023-14      2023-04-03    2023-04-09   \n",
              "\n",
              "                            product_item  quantity  \n",
              "102728  ff3890faa80ff425ae906e27bbc50bc6       907  \n",
              "102729  ff4b0f3b9c78c91510a4e3920fbc5090        81  \n",
              "102730  ff9d05a4d6f922b3ab1653f58165b8ce        16  \n",
              "102731  ffbd6f1d884056a4f622d54ae79e5a14     42920  \n",
              "102732  fff18f7c705e729746515e2053dee64b        53  "
            ],
            "text/html": [
              "\n",
              "  <div id=\"df-542b22d3-1af0-4c56-997e-d1e972bcbc97\">\n",
              "    <div class=\"colab-df-container\">\n",
              "      <div>\n",
              "<style scoped>\n",
              "    .dataframe tbody tr th:only-of-type {\n",
              "        vertical-align: middle;\n",
              "    }\n",
              "\n",
              "    .dataframe tbody tr th {\n",
              "        vertical-align: top;\n",
              "    }\n",
              "\n",
              "    .dataframe thead th {\n",
              "        text-align: right;\n",
              "    }\n",
              "</style>\n",
              "<table border=\"1\" class=\"dataframe\">\n",
              "  <thead>\n",
              "    <tr style=\"text-align: right;\">\n",
              "      <th></th>\n",
              "      <th>week_number</th>\n",
              "      <th>week_start_date</th>\n",
              "      <th>week_end_date</th>\n",
              "      <th>product_item</th>\n",
              "      <th>quantity</th>\n",
              "    </tr>\n",
              "  </thead>\n",
              "  <tbody>\n",
              "    <tr>\n",
              "      <th>102728</th>\n",
              "      <td>2023-14</td>\n",
              "      <td>2023-04-03</td>\n",
              "      <td>2023-04-09</td>\n",
              "      <td>ff3890faa80ff425ae906e27bbc50bc6</td>\n",
              "      <td>907</td>\n",
              "    </tr>\n",
              "    <tr>\n",
              "      <th>102729</th>\n",
              "      <td>2023-14</td>\n",
              "      <td>2023-04-03</td>\n",
              "      <td>2023-04-09</td>\n",
              "      <td>ff4b0f3b9c78c91510a4e3920fbc5090</td>\n",
              "      <td>81</td>\n",
              "    </tr>\n",
              "    <tr>\n",
              "      <th>102730</th>\n",
              "      <td>2023-14</td>\n",
              "      <td>2023-04-03</td>\n",
              "      <td>2023-04-09</td>\n",
              "      <td>ff9d05a4d6f922b3ab1653f58165b8ce</td>\n",
              "      <td>16</td>\n",
              "    </tr>\n",
              "    <tr>\n",
              "      <th>102731</th>\n",
              "      <td>2023-14</td>\n",
              "      <td>2023-04-03</td>\n",
              "      <td>2023-04-09</td>\n",
              "      <td>ffbd6f1d884056a4f622d54ae79e5a14</td>\n",
              "      <td>42920</td>\n",
              "    </tr>\n",
              "    <tr>\n",
              "      <th>102732</th>\n",
              "      <td>2023-14</td>\n",
              "      <td>2023-04-03</td>\n",
              "      <td>2023-04-09</td>\n",
              "      <td>fff18f7c705e729746515e2053dee64b</td>\n",
              "      <td>53</td>\n",
              "    </tr>\n",
              "  </tbody>\n",
              "</table>\n",
              "</div>\n",
              "      <button class=\"colab-df-convert\" onclick=\"convertToInteractive('df-542b22d3-1af0-4c56-997e-d1e972bcbc97')\"\n",
              "              title=\"Convert this dataframe to an interactive table.\"\n",
              "              style=\"display:none;\">\n",
              "        \n",
              "  <svg xmlns=\"http://www.w3.org/2000/svg\" height=\"24px\"viewBox=\"0 0 24 24\"\n",
              "       width=\"24px\">\n",
              "    <path d=\"M0 0h24v24H0V0z\" fill=\"none\"/>\n",
              "    <path d=\"M18.56 5.44l.94 2.06.94-2.06 2.06-.94-2.06-.94-.94-2.06-.94 2.06-2.06.94zm-11 1L8.5 8.5l.94-2.06 2.06-.94-2.06-.94L8.5 2.5l-.94 2.06-2.06.94zm10 10l.94 2.06.94-2.06 2.06-.94-2.06-.94-.94-2.06-.94 2.06-2.06.94z\"/><path d=\"M17.41 7.96l-1.37-1.37c-.4-.4-.92-.59-1.43-.59-.52 0-1.04.2-1.43.59L10.3 9.45l-7.72 7.72c-.78.78-.78 2.05 0 2.83L4 21.41c.39.39.9.59 1.41.59.51 0 1.02-.2 1.41-.59l7.78-7.78 2.81-2.81c.8-.78.8-2.07 0-2.86zM5.41 20L4 18.59l7.72-7.72 1.47 1.35L5.41 20z\"/>\n",
              "  </svg>\n",
              "      </button>\n",
              "      \n",
              "  <style>\n",
              "    .colab-df-container {\n",
              "      display:flex;\n",
              "      flex-wrap:wrap;\n",
              "      gap: 12px;\n",
              "    }\n",
              "\n",
              "    .colab-df-convert {\n",
              "      background-color: #E8F0FE;\n",
              "      border: none;\n",
              "      border-radius: 50%;\n",
              "      cursor: pointer;\n",
              "      display: none;\n",
              "      fill: #1967D2;\n",
              "      height: 32px;\n",
              "      padding: 0 0 0 0;\n",
              "      width: 32px;\n",
              "    }\n",
              "\n",
              "    .colab-df-convert:hover {\n",
              "      background-color: #E2EBFA;\n",
              "      box-shadow: 0px 1px 2px rgba(60, 64, 67, 0.3), 0px 1px 3px 1px rgba(60, 64, 67, 0.15);\n",
              "      fill: #174EA6;\n",
              "    }\n",
              "\n",
              "    [theme=dark] .colab-df-convert {\n",
              "      background-color: #3B4455;\n",
              "      fill: #D2E3FC;\n",
              "    }\n",
              "\n",
              "    [theme=dark] .colab-df-convert:hover {\n",
              "      background-color: #434B5C;\n",
              "      box-shadow: 0px 1px 3px 1px rgba(0, 0, 0, 0.15);\n",
              "      filter: drop-shadow(0px 1px 2px rgba(0, 0, 0, 0.3));\n",
              "      fill: #FFFFFF;\n",
              "    }\n",
              "  </style>\n",
              "\n",
              "      <script>\n",
              "        const buttonEl =\n",
              "          document.querySelector('#df-542b22d3-1af0-4c56-997e-d1e972bcbc97 button.colab-df-convert');\n",
              "        buttonEl.style.display =\n",
              "          google.colab.kernel.accessAllowed ? 'block' : 'none';\n",
              "\n",
              "        async function convertToInteractive(key) {\n",
              "          const element = document.querySelector('#df-542b22d3-1af0-4c56-997e-d1e972bcbc97');\n",
              "          const dataTable =\n",
              "            await google.colab.kernel.invokeFunction('convertToInteractive',\n",
              "                                                     [key], {});\n",
              "          if (!dataTable) return;\n",
              "\n",
              "          const docLinkHtml = 'Like what you see? Visit the ' +\n",
              "            '<a target=\"_blank\" href=https://colab.research.google.com/notebooks/data_table.ipynb>data table notebook</a>'\n",
              "            + ' to learn more about interactive tables.';\n",
              "          element.innerHTML = '';\n",
              "          dataTable['output_type'] = 'display_data';\n",
              "          await google.colab.output.renderOutput(dataTable, element);\n",
              "          const docLink = document.createElement('div');\n",
              "          docLink.innerHTML = docLinkHtml;\n",
              "          element.appendChild(docLink);\n",
              "        }\n",
              "      </script>\n",
              "    </div>\n",
              "  </div>\n",
              "  "
            ]
          },
          "metadata": {},
          "execution_count": 5
        }
      ]
    },
    {
      "cell_type": "markdown",
      "source": [
        "melihat informasi sederhana pada data"
      ],
      "metadata": {
        "id": "yPu0Nf2SQQW8"
      }
    },
    {
      "cell_type": "code",
      "source": [
        "datasheet.info()"
      ],
      "metadata": {
        "colab": {
          "base_uri": "https://localhost:8080/"
        },
        "id": "u2K8ANvY9xZ4",
        "outputId": "343fb232-1c27-4981-a2c1-551dca13169d"
      },
      "execution_count": 6,
      "outputs": [
        {
          "output_type": "stream",
          "name": "stdout",
          "text": [
            "<class 'pandas.core.frame.DataFrame'>\n",
            "RangeIndex: 102733 entries, 0 to 102732\n",
            "Data columns (total 5 columns):\n",
            " #   Column           Non-Null Count   Dtype \n",
            "---  ------           --------------   ----- \n",
            " 0   week_number      102733 non-null  object\n",
            " 1   week_start_date  102733 non-null  object\n",
            " 2   week_end_date    102733 non-null  object\n",
            " 3   product_item     102731 non-null  object\n",
            " 4   quantity         102733 non-null  int64 \n",
            "dtypes: int64(1), object(4)\n",
            "memory usage: 3.9+ MB\n"
          ]
        }
      ]
    },
    {
      "cell_type": "markdown",
      "source": [
        "dataset yang digunakan kali ini terdapat 102733 baris dengan 5 kolom."
      ],
      "metadata": {
        "id": "ZRj11sQkPnij"
      }
    },
    {
      "cell_type": "markdown",
      "source": [
        "## EDA"
      ],
      "metadata": {
        "id": "QTBLiEiC-O8-"
      }
    },
    {
      "cell_type": "markdown",
      "source": [
        "### EDA Preparing"
      ],
      "metadata": {
        "id": "8EaBs3VPIobl"
      }
    },
    {
      "cell_type": "code",
      "source": [
        "df = datasheet.copy()"
      ],
      "metadata": {
        "id": "yhSvvq-O-Xcp"
      },
      "execution_count": 124,
      "outputs": []
    },
    {
      "cell_type": "markdown",
      "source": [
        "men-duplikat dataset agar tidak rusak saat pengerjaan nantinya"
      ],
      "metadata": {
        "id": "XJ0cbarGRt0t"
      }
    },
    {
      "cell_type": "code",
      "source": [
        "df['week_start_date'] = pd.to_datetime(df['week_start_date'])"
      ],
      "metadata": {
        "id": "v3Gtfdmw-bEb"
      },
      "execution_count": 279,
      "outputs": []
    },
    {
      "cell_type": "markdown",
      "source": [
        "mengubah bentuk data `week_start_date` menjadi data tanggal."
      ],
      "metadata": {
        "id": "JU0MQ-5AR5h0"
      }
    },
    {
      "cell_type": "markdown",
      "source": [
        "### EDA Script"
      ],
      "metadata": {
        "id": "sgVVomaoIvGr"
      }
    },
    {
      "cell_type": "code",
      "source": [
        "df_1 = df.loc[:, df.columns.isin(['week_start_date', 'product_item','quantity'])]  # mengambil data week_start_date, product_item, quantity saja.\n",
        "df_1_2 = df_1.loc[df_1['week_start_date'] >= '2022-01-01'] # mengambil data yang dimulai dari tahun 2022 saja\n",
        "df_1_3 = df_1_2.loc[df_1_2['week_start_date'] < '2023-01-01'] # mengambil data yang diakhiri pada tahun 2022 di data sebelumnya\n",
        "df_1_4 = df_1_3.groupby('product_item').sum() # grouping data berdasarkan product_item nya\n",
        "df_1_5 = df_1_4.sort_values(by='quantity', ascending=False) # mengurutkan dari besar ke kecil data quality diatas\n",
        "df_1_5_b = df_1_4.sort_values(by='quantity', ascending=True) # mengurutkan dari kecil ke best data quality diatas\n",
        "df_1_6 = df_1_5.iloc[:10] # melihat 10 data terbesar saja\n",
        "df_1_6_b = df_1_5_b.iloc[:10] # melihat 10 data terkecil saja\n",
        "df_1_7 = df_1_5.iloc[10:] # melihat sisa dari 10 data terbesar\n",
        "df_1_8 = df_1_7.sum() # menjumlahkan sisa 10 data terbesar\n",
        "df_1_9 = pd.DataFrame(df_1_8).T\n",
        "df_1_10 = df_1_6.append(df_1_9) # menggabungkan sisa data terbesar tadi di kolo 10 data terbesar\n",
        "df_1_11 = df_1_4.sum() # melihat total dari keselurusan data tiap product_item di tahun 2022 saja\n",
        "df_1_12 = pd.DataFrame(df_1_11).T "
      ],
      "metadata": {
        "id": "YtIDPk5K-xYK"
      },
      "execution_count": 285,
      "outputs": []
    },
    {
      "cell_type": "code",
      "source": [
        "df_2_1 = df_1.loc[df_1['week_start_date'] >= '2022-01-01'] # mengambil data yang dimulai dari tahun 2022 saja\n",
        "df_2_2 = df_2_1.loc[df_2_1['week_start_date'] < '2022-04-05'] # mengambil data yang diakhiri pada tahun 2022 bulan 04 dan hari 05 di data sebelumnya\n",
        "df_2_3 = df_2_2.sum() # dijumlah total penjualan berdasarkan product_item nya\n",
        "\n",
        "df_3_1 = df_1.loc[df_1['week_start_date'] >= '2023-01-01'] # mengambil data yang dimulai dari tahun 2023 saja\n",
        "df_3_2 = df_3_1.sum() # dijumlah total penjualan berdasarkan product_item nya\n",
        "\n",
        "data = {'Tahun': ['2022', '2023'],\n",
        "        'penjualan': [df_2_3['quantity'], df_3_2['quantity']]}\n",
        "df_4 = pd.DataFrame(data) # mencoba membandingkan penjualan dari tahun 2022 dan 2023 sampai minggu ke 14 di keduanya."
      ],
      "metadata": {
        "id": "onekNCDjJAsR"
      },
      "execution_count": 262,
      "outputs": []
    },
    {
      "cell_type": "code",
      "source": [
        "df_5 = df.loc[:, df.columns.isin(['week_start_date', 'quantity'])] # mengambil data yang berisikan week_start_date dan quantity saja\n",
        "df_5_2 = df_5.groupby('week_start_date').sum() # menjumlahkan quantity berdasarkan tanggal awal pencatatan\n",
        "df_5_3 = df_5_2.sort_values(by='quantity', ascending= False) # sortir data diatas dari yang tertinggi sampai terendah"
      ],
      "metadata": {
        "id": "vq0ieMUwJfpY"
      },
      "execution_count": 273,
      "outputs": []
    },
    {
      "cell_type": "code",
      "source": [
        "stl = STL(df_5_2['quantity'][:], period=12) # mengambil data pada tiap bulannya untuk melihat seasonal nya\n",
        "res = stl.fit()"
      ],
      "metadata": {
        "id": "dsKQT9nWKBE4"
      },
      "execution_count": 265,
      "outputs": []
    },
    {
      "cell_type": "markdown",
      "source": [
        "### EDA dataset"
      ],
      "metadata": {
        "id": "dqpoVKExJEJZ"
      }
    },
    {
      "cell_type": "markdown",
      "source": [
        "#### informasi sederhana"
      ],
      "metadata": {
        "id": "GIVlCvKoYaPh"
      }
    },
    {
      "cell_type": "code",
      "source": [
        "df.info()"
      ],
      "metadata": {
        "colab": {
          "base_uri": "https://localhost:8080/"
        },
        "id": "_oQQeB5aMTvE",
        "outputId": "d370a346-fbae-4fd3-afd0-d5bb670cdc96"
      },
      "execution_count": 278,
      "outputs": [
        {
          "output_type": "stream",
          "name": "stdout",
          "text": [
            "<class 'pandas.core.frame.DataFrame'>\n",
            "RangeIndex: 102733 entries, 0 to 102732\n",
            "Data columns (total 5 columns):\n",
            " #   Column           Non-Null Count   Dtype         \n",
            "---  ------           --------------   -----         \n",
            " 0   week_number      102733 non-null  object        \n",
            " 1   week_start_date  102733 non-null  datetime64[ns]\n",
            " 2   week_end_date    102733 non-null  object        \n",
            " 3   product_item     102731 non-null  object        \n",
            " 4   quantity         102733 non-null  int64         \n",
            "dtypes: datetime64[ns](1), int64(1), object(3)\n",
            "memory usage: 3.9+ MB\n"
          ]
        }
      ]
    },
    {
      "cell_type": "markdown",
      "source": [
        "terlihat bahwa terdapat 2 data yang kosong pada `product_item`."
      ],
      "metadata": {
        "id": "Owvziu4NU7GM"
      }
    },
    {
      "cell_type": "code",
      "source": [
        "df.describe()"
      ],
      "metadata": {
        "colab": {
          "base_uri": "https://localhost:8080/",
          "height": 300
        },
        "id": "duayONffVKcj",
        "outputId": "253bde6d-6e77-4d83-e321-9567f0107cd7"
      },
      "execution_count": 286,
      "outputs": [
        {
          "output_type": "execute_result",
          "data": {
            "text/plain": [
              "            quantity\n",
              "count  102733.000000\n",
              "mean     3191.562419\n",
              "std     12074.631014\n",
              "min         0.000000\n",
              "25%        75.000000\n",
              "50%       414.000000\n",
              "75%      1890.000000\n",
              "max    774732.000000"
            ],
            "text/html": [
              "\n",
              "  <div id=\"df-47cda38e-c545-4774-a442-dd9b862f5a17\">\n",
              "    <div class=\"colab-df-container\">\n",
              "      <div>\n",
              "<style scoped>\n",
              "    .dataframe tbody tr th:only-of-type {\n",
              "        vertical-align: middle;\n",
              "    }\n",
              "\n",
              "    .dataframe tbody tr th {\n",
              "        vertical-align: top;\n",
              "    }\n",
              "\n",
              "    .dataframe thead th {\n",
              "        text-align: right;\n",
              "    }\n",
              "</style>\n",
              "<table border=\"1\" class=\"dataframe\">\n",
              "  <thead>\n",
              "    <tr style=\"text-align: right;\">\n",
              "      <th></th>\n",
              "      <th>quantity</th>\n",
              "    </tr>\n",
              "  </thead>\n",
              "  <tbody>\n",
              "    <tr>\n",
              "      <th>count</th>\n",
              "      <td>102733.000000</td>\n",
              "    </tr>\n",
              "    <tr>\n",
              "      <th>mean</th>\n",
              "      <td>3191.562419</td>\n",
              "    </tr>\n",
              "    <tr>\n",
              "      <th>std</th>\n",
              "      <td>12074.631014</td>\n",
              "    </tr>\n",
              "    <tr>\n",
              "      <th>min</th>\n",
              "      <td>0.000000</td>\n",
              "    </tr>\n",
              "    <tr>\n",
              "      <th>25%</th>\n",
              "      <td>75.000000</td>\n",
              "    </tr>\n",
              "    <tr>\n",
              "      <th>50%</th>\n",
              "      <td>414.000000</td>\n",
              "    </tr>\n",
              "    <tr>\n",
              "      <th>75%</th>\n",
              "      <td>1890.000000</td>\n",
              "    </tr>\n",
              "    <tr>\n",
              "      <th>max</th>\n",
              "      <td>774732.000000</td>\n",
              "    </tr>\n",
              "  </tbody>\n",
              "</table>\n",
              "</div>\n",
              "      <button class=\"colab-df-convert\" onclick=\"convertToInteractive('df-47cda38e-c545-4774-a442-dd9b862f5a17')\"\n",
              "              title=\"Convert this dataframe to an interactive table.\"\n",
              "              style=\"display:none;\">\n",
              "        \n",
              "  <svg xmlns=\"http://www.w3.org/2000/svg\" height=\"24px\"viewBox=\"0 0 24 24\"\n",
              "       width=\"24px\">\n",
              "    <path d=\"M0 0h24v24H0V0z\" fill=\"none\"/>\n",
              "    <path d=\"M18.56 5.44l.94 2.06.94-2.06 2.06-.94-2.06-.94-.94-2.06-.94 2.06-2.06.94zm-11 1L8.5 8.5l.94-2.06 2.06-.94-2.06-.94L8.5 2.5l-.94 2.06-2.06.94zm10 10l.94 2.06.94-2.06 2.06-.94-2.06-.94-.94-2.06-.94 2.06-2.06.94z\"/><path d=\"M17.41 7.96l-1.37-1.37c-.4-.4-.92-.59-1.43-.59-.52 0-1.04.2-1.43.59L10.3 9.45l-7.72 7.72c-.78.78-.78 2.05 0 2.83L4 21.41c.39.39.9.59 1.41.59.51 0 1.02-.2 1.41-.59l7.78-7.78 2.81-2.81c.8-.78.8-2.07 0-2.86zM5.41 20L4 18.59l7.72-7.72 1.47 1.35L5.41 20z\"/>\n",
              "  </svg>\n",
              "      </button>\n",
              "      \n",
              "  <style>\n",
              "    .colab-df-container {\n",
              "      display:flex;\n",
              "      flex-wrap:wrap;\n",
              "      gap: 12px;\n",
              "    }\n",
              "\n",
              "    .colab-df-convert {\n",
              "      background-color: #E8F0FE;\n",
              "      border: none;\n",
              "      border-radius: 50%;\n",
              "      cursor: pointer;\n",
              "      display: none;\n",
              "      fill: #1967D2;\n",
              "      height: 32px;\n",
              "      padding: 0 0 0 0;\n",
              "      width: 32px;\n",
              "    }\n",
              "\n",
              "    .colab-df-convert:hover {\n",
              "      background-color: #E2EBFA;\n",
              "      box-shadow: 0px 1px 2px rgba(60, 64, 67, 0.3), 0px 1px 3px 1px rgba(60, 64, 67, 0.15);\n",
              "      fill: #174EA6;\n",
              "    }\n",
              "\n",
              "    [theme=dark] .colab-df-convert {\n",
              "      background-color: #3B4455;\n",
              "      fill: #D2E3FC;\n",
              "    }\n",
              "\n",
              "    [theme=dark] .colab-df-convert:hover {\n",
              "      background-color: #434B5C;\n",
              "      box-shadow: 0px 1px 3px 1px rgba(0, 0, 0, 0.15);\n",
              "      filter: drop-shadow(0px 1px 2px rgba(0, 0, 0, 0.3));\n",
              "      fill: #FFFFFF;\n",
              "    }\n",
              "  </style>\n",
              "\n",
              "      <script>\n",
              "        const buttonEl =\n",
              "          document.querySelector('#df-47cda38e-c545-4774-a442-dd9b862f5a17 button.colab-df-convert');\n",
              "        buttonEl.style.display =\n",
              "          google.colab.kernel.accessAllowed ? 'block' : 'none';\n",
              "\n",
              "        async function convertToInteractive(key) {\n",
              "          const element = document.querySelector('#df-47cda38e-c545-4774-a442-dd9b862f5a17');\n",
              "          const dataTable =\n",
              "            await google.colab.kernel.invokeFunction('convertToInteractive',\n",
              "                                                     [key], {});\n",
              "          if (!dataTable) return;\n",
              "\n",
              "          const docLinkHtml = 'Like what you see? Visit the ' +\n",
              "            '<a target=\"_blank\" href=https://colab.research.google.com/notebooks/data_table.ipynb>data table notebook</a>'\n",
              "            + ' to learn more about interactive tables.';\n",
              "          element.innerHTML = '';\n",
              "          dataTable['output_type'] = 'display_data';\n",
              "          await google.colab.output.renderOutput(dataTable, element);\n",
              "          const docLink = document.createElement('div');\n",
              "          docLink.innerHTML = docLinkHtml;\n",
              "          element.appendChild(docLink);\n",
              "        }\n",
              "      </script>\n",
              "    </div>\n",
              "  </div>\n",
              "  "
            ]
          },
          "metadata": {},
          "execution_count": 286
        }
      ]
    },
    {
      "cell_type": "markdown",
      "source": [
        "pada dataset yang diterima, diketahui bahwa penjualan tiap minggunya memiliki rata-rata penjualan di sekitar 3200 pcs dan memiliki nilai median diangka 414 pcs pada setiap jenis barangnya. penjualan terendah pada tiap jenis barangnya pada nilai 0 dan penjualan tertinggi di jenis barangnya berada di 774732 pcs di setiap minggunya. "
      ],
      "metadata": {
        "id": "Ot5LE9CEVJVF"
      }
    },
    {
      "cell_type": "markdown",
      "source": [
        "#### penjualan barang tahun 2022"
      ],
      "metadata": {
        "id": "OEyptAjoYdll"
      }
    },
    {
      "cell_type": "markdown",
      "source": [
        "##### tabel penjualan"
      ],
      "metadata": {
        "id": "Yus9BWsJZLhE"
      }
    },
    {
      "cell_type": "code",
      "source": [
        "print('---'*14)\n",
        "print('10 barang terlaris tahun 2022')\n",
        "print(df_1_6)\n",
        "print('---'*14)\n",
        "print('\\n')\n",
        "print('---'*14)\n",
        "print('10 barang paling tidak laku tahun 2022')\n",
        "print(df_1_6_b)\n",
        "print('---'*14)\n",
        "print('\\n')\n",
        "print('---'*14)\n",
        "print('total barang yang terjual tahun 2022')\n",
        "print(df_1_12)\n",
        "print('---'*14)"
      ],
      "metadata": {
        "colab": {
          "base_uri": "https://localhost:8080/"
        },
        "id": "stjW3Te_IyRk",
        "outputId": "2f03206d-33cb-4cf8-aba1-f2fbd916cf20"
      },
      "execution_count": 271,
      "outputs": [
        {
          "output_type": "stream",
          "name": "stdout",
          "text": [
            "------------------------------------------\n",
            "10 barang terlaris tahun 2022\n",
            "                                  quantity\n",
            "product_item                              \n",
            "2949ca4cfbf13969bccfbb9817f2526a  14881934\n",
            "2db7ed9bd7573aec037aac59237cb3dd   7358733\n",
            "160eb16a7369a645ec75caa3f14543d4   5330209\n",
            "229a936943f7da9feea525f1a48d1d03   5221727\n",
            "0f9d1e065ad64ecd7237084107a4bfbd   3464801\n",
            "b194ef33e06abf24820fd38922554c16   2933361\n",
            "6337f7f220187dcbfd7eb3baecd0e5b2   2926989\n",
            "ffbd6f1d884056a4f622d54ae79e5a14   2821022\n",
            "4275094eb25dd0a337a57f466008ec43   2772720\n",
            "eb7924c4a3535c584b8ff04587aa5b29   2582747\n",
            "------------------------------------------\n",
            "\n",
            "\n",
            "------------------------------------------\n",
            "10 barang paling tidak laku tahun 2022\n",
            "                                  quantity\n",
            "product_item                              \n",
            "d79c7a64e815ebb411b976fc2444f750         2\n",
            "643fd2bcc3608650ecfa16b714c7cacb         2\n",
            "b3668db858f2e923f12ea3a795c6faf0         2\n",
            "1c668b91d9207e5d798b5277fc6c4c16         2\n",
            "8547a35c031cf6ede36db8529816e4d3         2\n",
            "67af525a4d4137ca7b1898d9dd03fddd         2\n",
            "7b76fec93cd30df54277409f9b17a8b8         2\n",
            "e7f39053623a6c2970d72ba6b73025aa         2\n",
            "06fd73444a38e1d15daf3f6e6daf518c         2\n",
            "87af4241efdde1b6f81f504ea68b0818         2\n",
            "------------------------------------------\n",
            "\n",
            "\n",
            "------------------------------------------\n",
            "total barang yang terjual tahun 2022\n",
            "    quantity\n",
            "0  263753550\n",
            "------------------------------------------\n"
          ]
        }
      ]
    },
    {
      "cell_type": "markdown",
      "source": [
        "dari data diatas, terlihat bahwa:\n",
        "    \n",
        "    Penjualan jenis barang terlaris pada tahun 2022 berjumlah 14881934 pcs, dan diikuti dengan jumlah 7358733 pcs di jenis barang kedua terlaris.\n",
        "    Terdapat beberapa jenis barang yang memiliki penjualan hanya 2 pcs di tahun 2022.\n",
        "    Total penjualan di semua jenis barang berjumlah 263753550 pcs.\n",
        "\n"
      ],
      "metadata": {
        "id": "qxjvWLjaWHc8"
      }
    },
    {
      "cell_type": "markdown",
      "source": [
        "##### piechart penjualan 10 barang terlaris"
      ],
      "metadata": {
        "id": "bHLEZwtaZPLK"
      }
    },
    {
      "cell_type": "code",
      "source": [
        "fig = px.pie(values=df_1_6['quantity'], names=df_1_6.index, title=\"10 barang terlaris tahun 2022\")\n",
        "fig.show()"
      ],
      "metadata": {
        "colab": {
          "base_uri": "https://localhost:8080/",
          "height": 542
        },
        "id": "VR286Ul1ffSs",
        "outputId": "7a8c557b-f72a-4d8d-d7dc-160f55365a86"
      },
      "execution_count": 257,
      "outputs": [
        {
          "output_type": "display_data",
          "data": {
            "text/html": [
              "<html>\n",
              "<head><meta charset=\"utf-8\" /></head>\n",
              "<body>\n",
              "    <div>            <script src=\"https://cdnjs.cloudflare.com/ajax/libs/mathjax/2.7.5/MathJax.js?config=TeX-AMS-MML_SVG\"></script><script type=\"text/javascript\">if (window.MathJax && window.MathJax.Hub && window.MathJax.Hub.Config) {window.MathJax.Hub.Config({SVG: {font: \"STIX-Web\"}});}</script>                <script type=\"text/javascript\">window.PlotlyConfig = {MathJaxConfig: 'local'};</script>\n",
              "        <script src=\"https://cdn.plot.ly/plotly-2.18.2.min.js\"></script>                <div id=\"59fa03af-b369-4335-8de2-326b6ff7c4a6\" class=\"plotly-graph-div\" style=\"height:525px; width:100%;\"></div>            <script type=\"text/javascript\">                                    window.PLOTLYENV=window.PLOTLYENV || {};                                    if (document.getElementById(\"59fa03af-b369-4335-8de2-326b6ff7c4a6\")) {                    Plotly.newPlot(                        \"59fa03af-b369-4335-8de2-326b6ff7c4a6\",                        [{\"domain\":{\"x\":[0.0,1.0],\"y\":[0.0,1.0]},\"hovertemplate\":\"label=%{label}<br>value=%{value}<extra></extra>\",\"labels\":[\"2949ca4cfbf13969bccfbb9817f2526a\",\"2db7ed9bd7573aec037aac59237cb3dd\",\"160eb16a7369a645ec75caa3f14543d4\",\"229a936943f7da9feea525f1a48d1d03\",\"0f9d1e065ad64ecd7237084107a4bfbd\",\"b194ef33e06abf24820fd38922554c16\",\"6337f7f220187dcbfd7eb3baecd0e5b2\",\"ffbd6f1d884056a4f622d54ae79e5a14\",\"4275094eb25dd0a337a57f466008ec43\",\"eb7924c4a3535c584b8ff04587aa5b29\"],\"legendgroup\":\"\",\"name\":\"\",\"showlegend\":true,\"values\":[14881934,7358733,5330209,5221727,3464801,2933361,2926989,2821022,2772720,2582747],\"type\":\"pie\"}],                        {\"template\":{\"data\":{\"histogram2dcontour\":[{\"type\":\"histogram2dcontour\",\"colorbar\":{\"outlinewidth\":0,\"ticks\":\"\"},\"colorscale\":[[0.0,\"#0d0887\"],[0.1111111111111111,\"#46039f\"],[0.2222222222222222,\"#7201a8\"],[0.3333333333333333,\"#9c179e\"],[0.4444444444444444,\"#bd3786\"],[0.5555555555555556,\"#d8576b\"],[0.6666666666666666,\"#ed7953\"],[0.7777777777777778,\"#fb9f3a\"],[0.8888888888888888,\"#fdca26\"],[1.0,\"#f0f921\"]]}],\"choropleth\":[{\"type\":\"choropleth\",\"colorbar\":{\"outlinewidth\":0,\"ticks\":\"\"}}],\"histogram2d\":[{\"type\":\"histogram2d\",\"colorbar\":{\"outlinewidth\":0,\"ticks\":\"\"},\"colorscale\":[[0.0,\"#0d0887\"],[0.1111111111111111,\"#46039f\"],[0.2222222222222222,\"#7201a8\"],[0.3333333333333333,\"#9c179e\"],[0.4444444444444444,\"#bd3786\"],[0.5555555555555556,\"#d8576b\"],[0.6666666666666666,\"#ed7953\"],[0.7777777777777778,\"#fb9f3a\"],[0.8888888888888888,\"#fdca26\"],[1.0,\"#f0f921\"]]}],\"heatmap\":[{\"type\":\"heatmap\",\"colorbar\":{\"outlinewidth\":0,\"ticks\":\"\"},\"colorscale\":[[0.0,\"#0d0887\"],[0.1111111111111111,\"#46039f\"],[0.2222222222222222,\"#7201a8\"],[0.3333333333333333,\"#9c179e\"],[0.4444444444444444,\"#bd3786\"],[0.5555555555555556,\"#d8576b\"],[0.6666666666666666,\"#ed7953\"],[0.7777777777777778,\"#fb9f3a\"],[0.8888888888888888,\"#fdca26\"],[1.0,\"#f0f921\"]]}],\"heatmapgl\":[{\"type\":\"heatmapgl\",\"colorbar\":{\"outlinewidth\":0,\"ticks\":\"\"},\"colorscale\":[[0.0,\"#0d0887\"],[0.1111111111111111,\"#46039f\"],[0.2222222222222222,\"#7201a8\"],[0.3333333333333333,\"#9c179e\"],[0.4444444444444444,\"#bd3786\"],[0.5555555555555556,\"#d8576b\"],[0.6666666666666666,\"#ed7953\"],[0.7777777777777778,\"#fb9f3a\"],[0.8888888888888888,\"#fdca26\"],[1.0,\"#f0f921\"]]}],\"contourcarpet\":[{\"type\":\"contourcarpet\",\"colorbar\":{\"outlinewidth\":0,\"ticks\":\"\"}}],\"contour\":[{\"type\":\"contour\",\"colorbar\":{\"outlinewidth\":0,\"ticks\":\"\"},\"colorscale\":[[0.0,\"#0d0887\"],[0.1111111111111111,\"#46039f\"],[0.2222222222222222,\"#7201a8\"],[0.3333333333333333,\"#9c179e\"],[0.4444444444444444,\"#bd3786\"],[0.5555555555555556,\"#d8576b\"],[0.6666666666666666,\"#ed7953\"],[0.7777777777777778,\"#fb9f3a\"],[0.8888888888888888,\"#fdca26\"],[1.0,\"#f0f921\"]]}],\"surface\":[{\"type\":\"surface\",\"colorbar\":{\"outlinewidth\":0,\"ticks\":\"\"},\"colorscale\":[[0.0,\"#0d0887\"],[0.1111111111111111,\"#46039f\"],[0.2222222222222222,\"#7201a8\"],[0.3333333333333333,\"#9c179e\"],[0.4444444444444444,\"#bd3786\"],[0.5555555555555556,\"#d8576b\"],[0.6666666666666666,\"#ed7953\"],[0.7777777777777778,\"#fb9f3a\"],[0.8888888888888888,\"#fdca26\"],[1.0,\"#f0f921\"]]}],\"mesh3d\":[{\"type\":\"mesh3d\",\"colorbar\":{\"outlinewidth\":0,\"ticks\":\"\"}}],\"scatter\":[{\"fillpattern\":{\"fillmode\":\"overlay\",\"size\":10,\"solidity\":0.2},\"type\":\"scatter\"}],\"parcoords\":[{\"type\":\"parcoords\",\"line\":{\"colorbar\":{\"outlinewidth\":0,\"ticks\":\"\"}}}],\"scatterpolargl\":[{\"type\":\"scatterpolargl\",\"marker\":{\"colorbar\":{\"outlinewidth\":0,\"ticks\":\"\"}}}],\"bar\":[{\"error_x\":{\"color\":\"#2a3f5f\"},\"error_y\":{\"color\":\"#2a3f5f\"},\"marker\":{\"line\":{\"color\":\"#E5ECF6\",\"width\":0.5},\"pattern\":{\"fillmode\":\"overlay\",\"size\":10,\"solidity\":0.2}},\"type\":\"bar\"}],\"scattergeo\":[{\"type\":\"scattergeo\",\"marker\":{\"colorbar\":{\"outlinewidth\":0,\"ticks\":\"\"}}}],\"scatterpolar\":[{\"type\":\"scatterpolar\",\"marker\":{\"colorbar\":{\"outlinewidth\":0,\"ticks\":\"\"}}}],\"histogram\":[{\"marker\":{\"pattern\":{\"fillmode\":\"overlay\",\"size\":10,\"solidity\":0.2}},\"type\":\"histogram\"}],\"scattergl\":[{\"type\":\"scattergl\",\"marker\":{\"colorbar\":{\"outlinewidth\":0,\"ticks\":\"\"}}}],\"scatter3d\":[{\"type\":\"scatter3d\",\"line\":{\"colorbar\":{\"outlinewidth\":0,\"ticks\":\"\"}},\"marker\":{\"colorbar\":{\"outlinewidth\":0,\"ticks\":\"\"}}}],\"scattermapbox\":[{\"type\":\"scattermapbox\",\"marker\":{\"colorbar\":{\"outlinewidth\":0,\"ticks\":\"\"}}}],\"scatterternary\":[{\"type\":\"scatterternary\",\"marker\":{\"colorbar\":{\"outlinewidth\":0,\"ticks\":\"\"}}}],\"scattercarpet\":[{\"type\":\"scattercarpet\",\"marker\":{\"colorbar\":{\"outlinewidth\":0,\"ticks\":\"\"}}}],\"carpet\":[{\"aaxis\":{\"endlinecolor\":\"#2a3f5f\",\"gridcolor\":\"white\",\"linecolor\":\"white\",\"minorgridcolor\":\"white\",\"startlinecolor\":\"#2a3f5f\"},\"baxis\":{\"endlinecolor\":\"#2a3f5f\",\"gridcolor\":\"white\",\"linecolor\":\"white\",\"minorgridcolor\":\"white\",\"startlinecolor\":\"#2a3f5f\"},\"type\":\"carpet\"}],\"table\":[{\"cells\":{\"fill\":{\"color\":\"#EBF0F8\"},\"line\":{\"color\":\"white\"}},\"header\":{\"fill\":{\"color\":\"#C8D4E3\"},\"line\":{\"color\":\"white\"}},\"type\":\"table\"}],\"barpolar\":[{\"marker\":{\"line\":{\"color\":\"#E5ECF6\",\"width\":0.5},\"pattern\":{\"fillmode\":\"overlay\",\"size\":10,\"solidity\":0.2}},\"type\":\"barpolar\"}],\"pie\":[{\"automargin\":true,\"type\":\"pie\"}]},\"layout\":{\"autotypenumbers\":\"strict\",\"colorway\":[\"#636efa\",\"#EF553B\",\"#00cc96\",\"#ab63fa\",\"#FFA15A\",\"#19d3f3\",\"#FF6692\",\"#B6E880\",\"#FF97FF\",\"#FECB52\"],\"font\":{\"color\":\"#2a3f5f\"},\"hovermode\":\"closest\",\"hoverlabel\":{\"align\":\"left\"},\"paper_bgcolor\":\"white\",\"plot_bgcolor\":\"#E5ECF6\",\"polar\":{\"bgcolor\":\"#E5ECF6\",\"angularaxis\":{\"gridcolor\":\"white\",\"linecolor\":\"white\",\"ticks\":\"\"},\"radialaxis\":{\"gridcolor\":\"white\",\"linecolor\":\"white\",\"ticks\":\"\"}},\"ternary\":{\"bgcolor\":\"#E5ECF6\",\"aaxis\":{\"gridcolor\":\"white\",\"linecolor\":\"white\",\"ticks\":\"\"},\"baxis\":{\"gridcolor\":\"white\",\"linecolor\":\"white\",\"ticks\":\"\"},\"caxis\":{\"gridcolor\":\"white\",\"linecolor\":\"white\",\"ticks\":\"\"}},\"coloraxis\":{\"colorbar\":{\"outlinewidth\":0,\"ticks\":\"\"}},\"colorscale\":{\"sequential\":[[0.0,\"#0d0887\"],[0.1111111111111111,\"#46039f\"],[0.2222222222222222,\"#7201a8\"],[0.3333333333333333,\"#9c179e\"],[0.4444444444444444,\"#bd3786\"],[0.5555555555555556,\"#d8576b\"],[0.6666666666666666,\"#ed7953\"],[0.7777777777777778,\"#fb9f3a\"],[0.8888888888888888,\"#fdca26\"],[1.0,\"#f0f921\"]],\"sequentialminus\":[[0.0,\"#0d0887\"],[0.1111111111111111,\"#46039f\"],[0.2222222222222222,\"#7201a8\"],[0.3333333333333333,\"#9c179e\"],[0.4444444444444444,\"#bd3786\"],[0.5555555555555556,\"#d8576b\"],[0.6666666666666666,\"#ed7953\"],[0.7777777777777778,\"#fb9f3a\"],[0.8888888888888888,\"#fdca26\"],[1.0,\"#f0f921\"]],\"diverging\":[[0,\"#8e0152\"],[0.1,\"#c51b7d\"],[0.2,\"#de77ae\"],[0.3,\"#f1b6da\"],[0.4,\"#fde0ef\"],[0.5,\"#f7f7f7\"],[0.6,\"#e6f5d0\"],[0.7,\"#b8e186\"],[0.8,\"#7fbc41\"],[0.9,\"#4d9221\"],[1,\"#276419\"]]},\"xaxis\":{\"gridcolor\":\"white\",\"linecolor\":\"white\",\"ticks\":\"\",\"title\":{\"standoff\":15},\"zerolinecolor\":\"white\",\"automargin\":true,\"zerolinewidth\":2},\"yaxis\":{\"gridcolor\":\"white\",\"linecolor\":\"white\",\"ticks\":\"\",\"title\":{\"standoff\":15},\"zerolinecolor\":\"white\",\"automargin\":true,\"zerolinewidth\":2},\"scene\":{\"xaxis\":{\"backgroundcolor\":\"#E5ECF6\",\"gridcolor\":\"white\",\"linecolor\":\"white\",\"showbackground\":true,\"ticks\":\"\",\"zerolinecolor\":\"white\",\"gridwidth\":2},\"yaxis\":{\"backgroundcolor\":\"#E5ECF6\",\"gridcolor\":\"white\",\"linecolor\":\"white\",\"showbackground\":true,\"ticks\":\"\",\"zerolinecolor\":\"white\",\"gridwidth\":2},\"zaxis\":{\"backgroundcolor\":\"#E5ECF6\",\"gridcolor\":\"white\",\"linecolor\":\"white\",\"showbackground\":true,\"ticks\":\"\",\"zerolinecolor\":\"white\",\"gridwidth\":2}},\"shapedefaults\":{\"line\":{\"color\":\"#2a3f5f\"}},\"annotationdefaults\":{\"arrowcolor\":\"#2a3f5f\",\"arrowhead\":0,\"arrowwidth\":1},\"geo\":{\"bgcolor\":\"white\",\"landcolor\":\"#E5ECF6\",\"subunitcolor\":\"white\",\"showland\":true,\"showlakes\":true,\"lakecolor\":\"white\"},\"title\":{\"x\":0.05},\"mapbox\":{\"style\":\"light\"}}},\"legend\":{\"tracegroupgap\":0},\"title\":{\"text\":\"10 barang terlaris tahun 2022\"}},                        {\"responsive\": true}                    ).then(function(){\n",
              "                            \n",
              "var gd = document.getElementById('59fa03af-b369-4335-8de2-326b6ff7c4a6');\n",
              "var x = new MutationObserver(function (mutations, observer) {{\n",
              "        var display = window.getComputedStyle(gd).display;\n",
              "        if (!display || display === 'none') {{\n",
              "            console.log([gd, 'removed!']);\n",
              "            Plotly.purge(gd);\n",
              "            observer.disconnect();\n",
              "        }}\n",
              "}});\n",
              "\n",
              "// Listen for the removal of the full notebook cells\n",
              "var notebookContainer = gd.closest('#notebook-container');\n",
              "if (notebookContainer) {{\n",
              "    x.observe(notebookContainer, {childList: true});\n",
              "}}\n",
              "\n",
              "// Listen for the clearing of the current output cell\n",
              "var outputEl = gd.closest('.output');\n",
              "if (outputEl) {{\n",
              "    x.observe(outputEl, {childList: true});\n",
              "}}\n",
              "\n",
              "                        })                };                            </script>        </div>\n",
              "</body>\n",
              "</html>"
            ]
          },
          "metadata": {}
        }
      ]
    },
    {
      "cell_type": "markdown",
      "source": [
        "dari piechart diatas, terlihat bahwa produk `2949ca4cfbf13969bccfbb9817f2526a` mendapatkan proporsi hampir 30% dari total 10 barang terlaris. kemudian diikuti oleh produk `2db7ed9bd7573aec037aac59237cb3dd` dengan proporsi 14,6% dan `160eb16a7369a645ec75caa3f14543d4` demham 10,6%."
      ],
      "metadata": {
        "id": "1BKgF0q9ZVLL"
      }
    },
    {
      "cell_type": "markdown",
      "source": [
        "#### Perbandingan penjualan tahun 2022 dan 2023"
      ],
      "metadata": {
        "id": "FObHRc7IY6lp"
      }
    },
    {
      "cell_type": "code",
      "source": [
        "print(df_4)"
      ],
      "metadata": {
        "colab": {
          "base_uri": "https://localhost:8080/"
        },
        "id": "pDnTmXjuypRP",
        "outputId": "9f033439-3713-4ab3-c069-28ee3d76aacf"
      },
      "execution_count": 282,
      "outputs": [
        {
          "output_type": "stream",
          "name": "stdout",
          "text": [
            "  Tahun  penjualan\n",
            "0  2022   60799917\n",
            "1  2023   63996158\n"
          ]
        }
      ]
    },
    {
      "cell_type": "code",
      "source": [
        "fig = px.bar(df_4, x='Tahun', y='penjualan', title='Penjualan tahun 2022 dan 2023 per 14 minggu pertama')\n",
        "fig.show()"
      ],
      "metadata": {
        "colab": {
          "base_uri": "https://localhost:8080/",
          "height": 542
        },
        "id": "0RaKIrkd5Uj1",
        "outputId": "e9c1a7d8-9805-4f39-fc4c-419851e301a7"
      },
      "execution_count": 259,
      "outputs": [
        {
          "output_type": "display_data",
          "data": {
            "text/html": [
              "<html>\n",
              "<head><meta charset=\"utf-8\" /></head>\n",
              "<body>\n",
              "    <div>            <script src=\"https://cdnjs.cloudflare.com/ajax/libs/mathjax/2.7.5/MathJax.js?config=TeX-AMS-MML_SVG\"></script><script type=\"text/javascript\">if (window.MathJax && window.MathJax.Hub && window.MathJax.Hub.Config) {window.MathJax.Hub.Config({SVG: {font: \"STIX-Web\"}});}</script>                <script type=\"text/javascript\">window.PlotlyConfig = {MathJaxConfig: 'local'};</script>\n",
              "        <script src=\"https://cdn.plot.ly/plotly-2.18.2.min.js\"></script>                <div id=\"57ffc6f0-363a-4eb5-af5e-9dd4fe6ccee0\" class=\"plotly-graph-div\" style=\"height:525px; width:100%;\"></div>            <script type=\"text/javascript\">                                    window.PLOTLYENV=window.PLOTLYENV || {};                                    if (document.getElementById(\"57ffc6f0-363a-4eb5-af5e-9dd4fe6ccee0\")) {                    Plotly.newPlot(                        \"57ffc6f0-363a-4eb5-af5e-9dd4fe6ccee0\",                        [{\"alignmentgroup\":\"True\",\"hovertemplate\":\"Tahun=%{x}<br>penjualan=%{y}<extra></extra>\",\"legendgroup\":\"\",\"marker\":{\"color\":\"#636efa\",\"pattern\":{\"shape\":\"\"}},\"name\":\"\",\"offsetgroup\":\"\",\"orientation\":\"v\",\"showlegend\":false,\"textposition\":\"auto\",\"x\":[\"2022\",\"2023\"],\"xaxis\":\"x\",\"y\":[60799917,63996158],\"yaxis\":\"y\",\"type\":\"bar\"}],                        {\"template\":{\"data\":{\"histogram2dcontour\":[{\"type\":\"histogram2dcontour\",\"colorbar\":{\"outlinewidth\":0,\"ticks\":\"\"},\"colorscale\":[[0.0,\"#0d0887\"],[0.1111111111111111,\"#46039f\"],[0.2222222222222222,\"#7201a8\"],[0.3333333333333333,\"#9c179e\"],[0.4444444444444444,\"#bd3786\"],[0.5555555555555556,\"#d8576b\"],[0.6666666666666666,\"#ed7953\"],[0.7777777777777778,\"#fb9f3a\"],[0.8888888888888888,\"#fdca26\"],[1.0,\"#f0f921\"]]}],\"choropleth\":[{\"type\":\"choropleth\",\"colorbar\":{\"outlinewidth\":0,\"ticks\":\"\"}}],\"histogram2d\":[{\"type\":\"histogram2d\",\"colorbar\":{\"outlinewidth\":0,\"ticks\":\"\"},\"colorscale\":[[0.0,\"#0d0887\"],[0.1111111111111111,\"#46039f\"],[0.2222222222222222,\"#7201a8\"],[0.3333333333333333,\"#9c179e\"],[0.4444444444444444,\"#bd3786\"],[0.5555555555555556,\"#d8576b\"],[0.6666666666666666,\"#ed7953\"],[0.7777777777777778,\"#fb9f3a\"],[0.8888888888888888,\"#fdca26\"],[1.0,\"#f0f921\"]]}],\"heatmap\":[{\"type\":\"heatmap\",\"colorbar\":{\"outlinewidth\":0,\"ticks\":\"\"},\"colorscale\":[[0.0,\"#0d0887\"],[0.1111111111111111,\"#46039f\"],[0.2222222222222222,\"#7201a8\"],[0.3333333333333333,\"#9c179e\"],[0.4444444444444444,\"#bd3786\"],[0.5555555555555556,\"#d8576b\"],[0.6666666666666666,\"#ed7953\"],[0.7777777777777778,\"#fb9f3a\"],[0.8888888888888888,\"#fdca26\"],[1.0,\"#f0f921\"]]}],\"heatmapgl\":[{\"type\":\"heatmapgl\",\"colorbar\":{\"outlinewidth\":0,\"ticks\":\"\"},\"colorscale\":[[0.0,\"#0d0887\"],[0.1111111111111111,\"#46039f\"],[0.2222222222222222,\"#7201a8\"],[0.3333333333333333,\"#9c179e\"],[0.4444444444444444,\"#bd3786\"],[0.5555555555555556,\"#d8576b\"],[0.6666666666666666,\"#ed7953\"],[0.7777777777777778,\"#fb9f3a\"],[0.8888888888888888,\"#fdca26\"],[1.0,\"#f0f921\"]]}],\"contourcarpet\":[{\"type\":\"contourcarpet\",\"colorbar\":{\"outlinewidth\":0,\"ticks\":\"\"}}],\"contour\":[{\"type\":\"contour\",\"colorbar\":{\"outlinewidth\":0,\"ticks\":\"\"},\"colorscale\":[[0.0,\"#0d0887\"],[0.1111111111111111,\"#46039f\"],[0.2222222222222222,\"#7201a8\"],[0.3333333333333333,\"#9c179e\"],[0.4444444444444444,\"#bd3786\"],[0.5555555555555556,\"#d8576b\"],[0.6666666666666666,\"#ed7953\"],[0.7777777777777778,\"#fb9f3a\"],[0.8888888888888888,\"#fdca26\"],[1.0,\"#f0f921\"]]}],\"surface\":[{\"type\":\"surface\",\"colorbar\":{\"outlinewidth\":0,\"ticks\":\"\"},\"colorscale\":[[0.0,\"#0d0887\"],[0.1111111111111111,\"#46039f\"],[0.2222222222222222,\"#7201a8\"],[0.3333333333333333,\"#9c179e\"],[0.4444444444444444,\"#bd3786\"],[0.5555555555555556,\"#d8576b\"],[0.6666666666666666,\"#ed7953\"],[0.7777777777777778,\"#fb9f3a\"],[0.8888888888888888,\"#fdca26\"],[1.0,\"#f0f921\"]]}],\"mesh3d\":[{\"type\":\"mesh3d\",\"colorbar\":{\"outlinewidth\":0,\"ticks\":\"\"}}],\"scatter\":[{\"fillpattern\":{\"fillmode\":\"overlay\",\"size\":10,\"solidity\":0.2},\"type\":\"scatter\"}],\"parcoords\":[{\"type\":\"parcoords\",\"line\":{\"colorbar\":{\"outlinewidth\":0,\"ticks\":\"\"}}}],\"scatterpolargl\":[{\"type\":\"scatterpolargl\",\"marker\":{\"colorbar\":{\"outlinewidth\":0,\"ticks\":\"\"}}}],\"bar\":[{\"error_x\":{\"color\":\"#2a3f5f\"},\"error_y\":{\"color\":\"#2a3f5f\"},\"marker\":{\"line\":{\"color\":\"#E5ECF6\",\"width\":0.5},\"pattern\":{\"fillmode\":\"overlay\",\"size\":10,\"solidity\":0.2}},\"type\":\"bar\"}],\"scattergeo\":[{\"type\":\"scattergeo\",\"marker\":{\"colorbar\":{\"outlinewidth\":0,\"ticks\":\"\"}}}],\"scatterpolar\":[{\"type\":\"scatterpolar\",\"marker\":{\"colorbar\":{\"outlinewidth\":0,\"ticks\":\"\"}}}],\"histogram\":[{\"marker\":{\"pattern\":{\"fillmode\":\"overlay\",\"size\":10,\"solidity\":0.2}},\"type\":\"histogram\"}],\"scattergl\":[{\"type\":\"scattergl\",\"marker\":{\"colorbar\":{\"outlinewidth\":0,\"ticks\":\"\"}}}],\"scatter3d\":[{\"type\":\"scatter3d\",\"line\":{\"colorbar\":{\"outlinewidth\":0,\"ticks\":\"\"}},\"marker\":{\"colorbar\":{\"outlinewidth\":0,\"ticks\":\"\"}}}],\"scattermapbox\":[{\"type\":\"scattermapbox\",\"marker\":{\"colorbar\":{\"outlinewidth\":0,\"ticks\":\"\"}}}],\"scatterternary\":[{\"type\":\"scatterternary\",\"marker\":{\"colorbar\":{\"outlinewidth\":0,\"ticks\":\"\"}}}],\"scattercarpet\":[{\"type\":\"scattercarpet\",\"marker\":{\"colorbar\":{\"outlinewidth\":0,\"ticks\":\"\"}}}],\"carpet\":[{\"aaxis\":{\"endlinecolor\":\"#2a3f5f\",\"gridcolor\":\"white\",\"linecolor\":\"white\",\"minorgridcolor\":\"white\",\"startlinecolor\":\"#2a3f5f\"},\"baxis\":{\"endlinecolor\":\"#2a3f5f\",\"gridcolor\":\"white\",\"linecolor\":\"white\",\"minorgridcolor\":\"white\",\"startlinecolor\":\"#2a3f5f\"},\"type\":\"carpet\"}],\"table\":[{\"cells\":{\"fill\":{\"color\":\"#EBF0F8\"},\"line\":{\"color\":\"white\"}},\"header\":{\"fill\":{\"color\":\"#C8D4E3\"},\"line\":{\"color\":\"white\"}},\"type\":\"table\"}],\"barpolar\":[{\"marker\":{\"line\":{\"color\":\"#E5ECF6\",\"width\":0.5},\"pattern\":{\"fillmode\":\"overlay\",\"size\":10,\"solidity\":0.2}},\"type\":\"barpolar\"}],\"pie\":[{\"automargin\":true,\"type\":\"pie\"}]},\"layout\":{\"autotypenumbers\":\"strict\",\"colorway\":[\"#636efa\",\"#EF553B\",\"#00cc96\",\"#ab63fa\",\"#FFA15A\",\"#19d3f3\",\"#FF6692\",\"#B6E880\",\"#FF97FF\",\"#FECB52\"],\"font\":{\"color\":\"#2a3f5f\"},\"hovermode\":\"closest\",\"hoverlabel\":{\"align\":\"left\"},\"paper_bgcolor\":\"white\",\"plot_bgcolor\":\"#E5ECF6\",\"polar\":{\"bgcolor\":\"#E5ECF6\",\"angularaxis\":{\"gridcolor\":\"white\",\"linecolor\":\"white\",\"ticks\":\"\"},\"radialaxis\":{\"gridcolor\":\"white\",\"linecolor\":\"white\",\"ticks\":\"\"}},\"ternary\":{\"bgcolor\":\"#E5ECF6\",\"aaxis\":{\"gridcolor\":\"white\",\"linecolor\":\"white\",\"ticks\":\"\"},\"baxis\":{\"gridcolor\":\"white\",\"linecolor\":\"white\",\"ticks\":\"\"},\"caxis\":{\"gridcolor\":\"white\",\"linecolor\":\"white\",\"ticks\":\"\"}},\"coloraxis\":{\"colorbar\":{\"outlinewidth\":0,\"ticks\":\"\"}},\"colorscale\":{\"sequential\":[[0.0,\"#0d0887\"],[0.1111111111111111,\"#46039f\"],[0.2222222222222222,\"#7201a8\"],[0.3333333333333333,\"#9c179e\"],[0.4444444444444444,\"#bd3786\"],[0.5555555555555556,\"#d8576b\"],[0.6666666666666666,\"#ed7953\"],[0.7777777777777778,\"#fb9f3a\"],[0.8888888888888888,\"#fdca26\"],[1.0,\"#f0f921\"]],\"sequentialminus\":[[0.0,\"#0d0887\"],[0.1111111111111111,\"#46039f\"],[0.2222222222222222,\"#7201a8\"],[0.3333333333333333,\"#9c179e\"],[0.4444444444444444,\"#bd3786\"],[0.5555555555555556,\"#d8576b\"],[0.6666666666666666,\"#ed7953\"],[0.7777777777777778,\"#fb9f3a\"],[0.8888888888888888,\"#fdca26\"],[1.0,\"#f0f921\"]],\"diverging\":[[0,\"#8e0152\"],[0.1,\"#c51b7d\"],[0.2,\"#de77ae\"],[0.3,\"#f1b6da\"],[0.4,\"#fde0ef\"],[0.5,\"#f7f7f7\"],[0.6,\"#e6f5d0\"],[0.7,\"#b8e186\"],[0.8,\"#7fbc41\"],[0.9,\"#4d9221\"],[1,\"#276419\"]]},\"xaxis\":{\"gridcolor\":\"white\",\"linecolor\":\"white\",\"ticks\":\"\",\"title\":{\"standoff\":15},\"zerolinecolor\":\"white\",\"automargin\":true,\"zerolinewidth\":2},\"yaxis\":{\"gridcolor\":\"white\",\"linecolor\":\"white\",\"ticks\":\"\",\"title\":{\"standoff\":15},\"zerolinecolor\":\"white\",\"automargin\":true,\"zerolinewidth\":2},\"scene\":{\"xaxis\":{\"backgroundcolor\":\"#E5ECF6\",\"gridcolor\":\"white\",\"linecolor\":\"white\",\"showbackground\":true,\"ticks\":\"\",\"zerolinecolor\":\"white\",\"gridwidth\":2},\"yaxis\":{\"backgroundcolor\":\"#E5ECF6\",\"gridcolor\":\"white\",\"linecolor\":\"white\",\"showbackground\":true,\"ticks\":\"\",\"zerolinecolor\":\"white\",\"gridwidth\":2},\"zaxis\":{\"backgroundcolor\":\"#E5ECF6\",\"gridcolor\":\"white\",\"linecolor\":\"white\",\"showbackground\":true,\"ticks\":\"\",\"zerolinecolor\":\"white\",\"gridwidth\":2}},\"shapedefaults\":{\"line\":{\"color\":\"#2a3f5f\"}},\"annotationdefaults\":{\"arrowcolor\":\"#2a3f5f\",\"arrowhead\":0,\"arrowwidth\":1},\"geo\":{\"bgcolor\":\"white\",\"landcolor\":\"#E5ECF6\",\"subunitcolor\":\"white\",\"showland\":true,\"showlakes\":true,\"lakecolor\":\"white\"},\"title\":{\"x\":0.05},\"mapbox\":{\"style\":\"light\"}}},\"xaxis\":{\"anchor\":\"y\",\"domain\":[0.0,1.0],\"title\":{\"text\":\"Tahun\"}},\"yaxis\":{\"anchor\":\"x\",\"domain\":[0.0,1.0],\"title\":{\"text\":\"penjualan\"}},\"legend\":{\"tracegroupgap\":0},\"title\":{\"text\":\"Penjualan tahun 2022 dan 2023 per 14 minggu pertama\"},\"barmode\":\"relative\"},                        {\"responsive\": true}                    ).then(function(){\n",
              "                            \n",
              "var gd = document.getElementById('57ffc6f0-363a-4eb5-af5e-9dd4fe6ccee0');\n",
              "var x = new MutationObserver(function (mutations, observer) {{\n",
              "        var display = window.getComputedStyle(gd).display;\n",
              "        if (!display || display === 'none') {{\n",
              "            console.log([gd, 'removed!']);\n",
              "            Plotly.purge(gd);\n",
              "            observer.disconnect();\n",
              "        }}\n",
              "}});\n",
              "\n",
              "// Listen for the removal of the full notebook cells\n",
              "var notebookContainer = gd.closest('#notebook-container');\n",
              "if (notebookContainer) {{\n",
              "    x.observe(notebookContainer, {childList: true});\n",
              "}}\n",
              "\n",
              "// Listen for the clearing of the current output cell\n",
              "var outputEl = gd.closest('.output');\n",
              "if (outputEl) {{\n",
              "    x.observe(outputEl, {childList: true});\n",
              "}}\n",
              "\n",
              "                        })                };                            </script>        </div>\n",
              "</body>\n",
              "</html>"
            ]
          },
          "metadata": {}
        }
      ]
    },
    {
      "cell_type": "markdown",
      "source": [
        "terlihat dari tabel diatas, bahwa terdapat penambahan penjualan pada 14 minggu pertama ditahun 2023 daripada penjualan di 14 minggu pertama tahun 2022. terlihat pada tabel diatas terdapat pertambahan penjualan sebanyak lebih dari 3 juta pcs dari tahun sebelumnya."
      ],
      "metadata": {
        "id": "KjP6TFXJg8gZ"
      }
    },
    {
      "cell_type": "markdown",
      "source": [
        "#### grafik penjualan tiap minggu"
      ],
      "metadata": {
        "id": "MTEOkFLmgtCC"
      }
    },
    {
      "cell_type": "code",
      "source": [
        "print(df_5_3)"
      ],
      "metadata": {
        "colab": {
          "base_uri": "https://localhost:8080/"
        },
        "id": "Cl4SRiurLQJB",
        "outputId": "7811ff4b-fce4-45b7-bfc0-74f7d942b78e"
      },
      "execution_count": 274,
      "outputs": [
        {
          "output_type": "stream",
          "name": "stdout",
          "text": [
            "                 quantity\n",
            "week_start_date          \n",
            "2022-05-09        7172144\n",
            "2022-06-06        6260083\n",
            "2022-08-08        6256332\n",
            "2022-08-01        6143352\n",
            "2022-08-29        6112693\n",
            "...                   ...\n",
            "2022-01-03        3839557\n",
            "2023-02-27        3732954\n",
            "2023-02-13        3731588\n",
            "2022-05-02        1334134\n",
            "2021-12-27         128808\n",
            "\n",
            "[67 rows x 1 columns]\n"
          ]
        }
      ]
    },
    {
      "cell_type": "code",
      "source": [
        "# Plot components\n",
        "fig, axes = plt.subplots(4, 1, figsize=(8, 8))\n",
        "axes[0].plot(res.observed)\n",
        "axes[0].set_ylabel('Observed')\n",
        "axes[1].plot(res.trend)\n",
        "axes[1].set_ylabel('Trend')\n",
        "axes[2].plot(res.seasonal)\n",
        "axes[2].set_ylabel('Seasonal')\n",
        "axes[3].plot(res.resid)\n",
        "axes[3].set_ylabel('Residual')\n",
        "\n",
        "plt.tight_layout()\n",
        "plt.show()"
      ],
      "metadata": {
        "colab": {
          "base_uri": "https://localhost:8080/",
          "height": 807
        },
        "id": "44-CIjDXLeH4",
        "outputId": "dbac5049-f260-4297-8eb8-8b8b7fb6d531"
      },
      "execution_count": 277,
      "outputs": [
        {
          "output_type": "display_data",
          "data": {
            "text/plain": [
              "<Figure size 800x800 with 4 Axes>"
            ],
            "image/png": "[encoded data removed]"
          },
          "metadata": {}
        }
      ]
    },
    {
      "cell_type": "markdown",
      "source": [
        "dari grafik diatas, telihat bahwa secara trend penjualan di 67 minggu terakhir, terlihat adanya kenaikan dari awal minggu sampai puncaknya di minggu 19. setelah itu penjualan mengalami penurunan sampai di minggu ke 67. jika ditelaah lebih dalam, sebelum minggu ke 19, terdapat penurunan penjualan yang sangat drastis. dengan melihat *event* pada minggu tersebut, saya ber-asumsi karena minggu ke 18 penjualan menurun dikarenakan konsumen sedang *mudik* dikarenakan pada minggu ke 19 nya tepat di minggu *Hari Raya Idul Fitri 1442 Hijriah*. selain itu, faktor lainnya yang menyebabkan kenapa di minggu ke 19 mengalami penjualan yang sangat tinggi dikarenakan adanya kemungkinan konsumen sedang senang mengeluarkan uang di hari raya guna hadiah hari raya, dan adanya kemungkinan proses pencatatan pada minggu sebelumnya yang belum sempat tercatat masuk ke minggu ini sehingga bila dirata-ratakan di kedua minggu tersebut, penjualan terlihat normal.\n",
        "\n",
        "\n",
        "sementara itu, di minggu pertama telihat penjualan sangat turun. saya berasumsi bahwa pada minggu pertama, sistem pencatatannya baru dilaksanakan di hari yang berdekatan dengan awal pencatatan pada minggu kedua sehingga interval waktu penjualannya sangat pendek. selain itu, dikarenakan mencuatnya kasus *covid-19* yang terjadi di minggu itu menyebabkan konsumen lebih tidak keluar rumah dahulu."
      ],
      "metadata": {
        "id": "hZ8LgFB5iVxx"
      }
    },
    {
      "cell_type": "markdown",
      "source": [
        "## Feature Enginering"
      ],
      "metadata": {
        "id": "G7MiaxgoA84o"
      }
    },
    {
      "cell_type": "code",
      "source": [
        "df_drop = df.loc[:, df.columns.isin(['week_start_date', 'quantity'])]  # mengambil data week_start_date dan quantity saja\n",
        "df_group = df_drop.groupby('week_start_date').sum() # menggabungkan data tersebut berdasarkan week_start_date untuk proses model learning nya"
      ],
      "metadata": {
        "id": "pTAiSCBFBQ0o"
      },
      "execution_count": 281,
      "outputs": []
    },
    {
      "cell_type": "markdown",
      "source": [
        "disini, saya tetap menggunakan data yang kosong di `product_item` dikarenakan data tersebut akan saya gabungkan berdasarkan `week_start_date` sehingga tidak berpengaruh akan hilangnya data `product_item`.\n",
        "\n",
        "selain itu, saya tidak melakukan normalisasi pada outlier dikarenakan semua data yang berada pada dataset kali ini merupakan data yang natural. sehingga saya tidak perlu menghilangkan data yang berada diatas maupun dibawah *outlier*. selain itu, hal ini bertujuan untuk mengurangi bias pada hasil *forecast* yang akan dihasilkan nantinya."
      ],
      "metadata": {
        "id": "8s465WXqmdmE"
      }
    },
    {
      "cell_type": "markdown",
      "source": [
        "## Preprocessing"
      ],
      "metadata": {
        "id": "EX4BJC9FNHM0"
      }
    },
    {
      "cell_type": "markdown",
      "source": [
        "membuat fungsi untuk mengecek apakah data sudah stasioneritas atau belum dengan tingkat kepercayaan yang ditentukan."
      ],
      "metadata": {
        "id": "vOePfvEqnfkt"
      }
    },
    {
      "cell_type": "code",
      "source": [
        "def check_stationarity(series):\n",
        "    # Copied from https://machinelearningmastery.com/time-series-data-stationary-python/\n",
        "\n",
        "    result = adfuller(series.values)\n",
        "\n",
        "    print('ADF Statistic: %f' % result[0])\n",
        "    print('p-value: %f' % result[1])\n",
        "    print('Critical Values:')\n",
        "    for key, value in result[4].items():\n",
        "        print('\\t%s: %.3f' % (key, value))\n",
        "\n",
        "    if (result[1] <= 0.05) & (result[4]['5%'] > result[0]):\n",
        "        print(\"\\u001b[32mStationary\\u001b[0m\")\n",
        "    else:\n",
        "        print(\"\\x1b[31mNon-stationary\\x1b[0m\")"
      ],
      "metadata": {
        "id": "n3qVBHzKFObh"
      },
      "execution_count": 50,
      "outputs": []
    },
    {
      "cell_type": "code",
      "source": [
        "check_stationarity(df_group['quantity'])"
      ],
      "metadata": {
        "colab": {
          "base_uri": "https://localhost:8080/"
        },
        "id": "R-uOWwtLFRL-",
        "outputId": "3fee734b-1df6-4846-fef4-ca3522a651b8"
      },
      "execution_count": 51,
      "outputs": [
        {
          "output_type": "stream",
          "name": "stdout",
          "text": [
            "ADF Statistic: -3.328832\n",
            "p-value: 0.013638\n",
            "Critical Values:\n",
            "\t1%: -3.537\n",
            "\t5%: -2.908\n",
            "\t10%: -2.591\n",
            "\u001b[32mStationary\u001b[0m\n"
          ]
        }
      ]
    },
    {
      "cell_type": "markdown",
      "source": [
        "didapati bahwa data yang dihasilkan sudah stationer dengan p-value di angka 0.05."
      ],
      "metadata": {
        "id": "ZQ7SeseIFnoz"
      }
    },
    {
      "cell_type": "code",
      "source": [
        "#Autoarima gives us bet model suited for the data\n",
        "# p - number of autoregressive terms (AR)\n",
        "# q - Number of moving avergae terms (MA)\n",
        "# d - number of non-seasonal differences\n",
        "#p, d, q represent non-seasonal components\n",
        "#P, D, Q represent seasonal components\n",
        "arima_model = auto_arima(df_group['quantity'][1:], start_p = 1, d=1, start_q = 1, \n",
        "                          max_p = 5, max_q = 5, max_d=5, m = 12, \n",
        "                          start_P = 1, D=1, start_Q=1, max_P=5, max_D=5, max_Q=5,\n",
        "                          seasonal = True, \n",
        "                          trace = True, \n",
        "                          error_action ='ignore',   \n",
        "                          suppress_warnings = True,  \n",
        "                          stepwise = True, n_fits=50)           "
      ],
      "metadata": {
        "colab": {
          "base_uri": "https://localhost:8080/"
        },
        "id": "lkZ-z6_oFws1",
        "outputId": "a6ecf857-32ca-4c47-a326-c02cb8374bc2"
      },
      "execution_count": 74,
      "outputs": [
        {
          "output_type": "stream",
          "name": "stdout",
          "text": [
            "Performing stepwise search to minimize aic\n",
            " ARIMA(1,1,1)(1,1,1)[12]             : AIC=1634.019, Time=0.60 sec\n",
            " ARIMA(0,1,0)(0,1,0)[12]             : AIC=1670.421, Time=0.04 sec\n",
            " ARIMA(1,1,0)(1,1,0)[12]             : AIC=1643.678, Time=0.21 sec\n",
            " ARIMA(0,1,1)(0,1,1)[12]             : AIC=1630.665, Time=0.18 sec\n",
            " ARIMA(0,1,1)(0,1,0)[12]             : AIC=1648.944, Time=0.10 sec\n",
            " ARIMA(0,1,1)(1,1,1)[12]             : AIC=1632.487, Time=0.43 sec\n",
            " ARIMA(0,1,1)(0,1,2)[12]             : AIC=1632.428, Time=0.60 sec\n",
            " ARIMA(0,1,1)(1,1,0)[12]             : AIC=1637.124, Time=0.20 sec\n",
            " ARIMA(0,1,1)(1,1,2)[12]             : AIC=1634.070, Time=1.42 sec\n",
            " ARIMA(0,1,0)(0,1,1)[12]             : AIC=inf, Time=0.14 sec\n",
            " ARIMA(1,1,1)(0,1,1)[12]             : AIC=1632.163, Time=0.21 sec\n",
            " ARIMA(0,1,2)(0,1,1)[12]             : AIC=1627.205, Time=0.17 sec\n",
            " ARIMA(0,1,2)(0,1,0)[12]             : AIC=1655.948, Time=0.06 sec\n",
            " ARIMA(0,1,2)(1,1,1)[12]             : AIC=1629.092, Time=0.26 sec\n",
            " ARIMA(0,1,2)(0,1,2)[12]             : AIC=1629.044, Time=0.43 sec\n",
            " ARIMA(0,1,2)(1,1,0)[12]             : AIC=1638.843, Time=0.29 sec\n",
            " ARIMA(0,1,2)(1,1,2)[12]             : AIC=1631.193, Time=0.50 sec\n",
            " ARIMA(1,1,2)(0,1,1)[12]             : AIC=1628.265, Time=0.34 sec\n",
            " ARIMA(0,1,3)(0,1,1)[12]             : AIC=1629.120, Time=0.30 sec\n",
            " ARIMA(1,1,3)(0,1,1)[12]             : AIC=1628.994, Time=0.83 sec\n",
            " ARIMA(0,1,2)(0,1,1)[12] intercept   : AIC=1627.236, Time=0.35 sec\n",
            "\n",
            "Best model:  ARIMA(0,1,2)(0,1,1)[12]          \n",
            "Total fit time: 7.724 seconds\n"
          ]
        }
      ]
    },
    {
      "cell_type": "markdown",
      "source": [
        "disini saya mencari model arima yang baik, didapati bahwa model terbaiknya ialah `ARIMA(0,1,2)(0,0,1)[12]`."
      ],
      "metadata": {
        "id": "1jmp41Xwoa6b"
      }
    },
    {
      "cell_type": "code",
      "source": [
        "# To print the summary \n",
        "print(arima_model.summary() ) #Note down the Model and details.\n",
        "# Model: SARIMAX(0, 0, 0)x(0, 0, [], 12)"
      ],
      "metadata": {
        "colab": {
          "base_uri": "https://localhost:8080/"
        },
        "id": "sGnVamOfGNRF",
        "outputId": "1b37f99c-4123-42b1-8727-49c013a90db2"
      },
      "execution_count": 75,
      "outputs": [
        {
          "output_type": "stream",
          "name": "stdout",
          "text": [
            "                                      SARIMAX Results                                       \n",
            "============================================================================================\n",
            "Dep. Variable:                                    y   No. Observations:                   66\n",
            "Model:             SARIMAX(0, 1, 2)x(0, 1, [1], 12)   Log Likelihood                -809.602\n",
            "Date:                              Sat, 15 Apr 2023   AIC                           1627.205\n",
            "Time:                                      08:54:56   BIC                           1635.086\n",
            "Sample:                                  01-03-2022   HQIC                          1630.236\n",
            "                                       - 04-03-2023                                         \n",
            "Covariance Type:                                opg                                         \n",
            "==============================================================================\n",
            "                 coef    std err          z      P>|z|      [0.025      0.975]\n",
            "------------------------------------------------------------------------------\n",
            "ma.L1         -0.6211      0.109     -5.700      0.000      -0.835      -0.408\n",
            "ma.L2          0.1398      0.211      0.664      0.507      -0.273       0.553\n",
            "ma.S.L12      -0.8408      0.202     -4.156      0.000      -1.237      -0.444\n",
            "sigma2      1.149e+12   1.89e-13   6.09e+24      0.000    1.15e+12    1.15e+12\n",
            "===================================================================================\n",
            "Ljung-Box (L1) (Q):                   0.86   Jarque-Bera (JB):                30.85\n",
            "Prob(Q):                              0.35   Prob(JB):                         0.00\n",
            "Heteroskedasticity (H):               0.27   Skew:                             0.44\n",
            "Prob(H) (two-sided):                  0.01   Kurtosis:                         6.63\n",
            "===================================================================================\n",
            "\n",
            "Warnings:\n",
            "[1] Covariance matrix calculated using the outer product of gradients (complex-step).\n",
            "[2] Covariance matrix is singular or near-singular, with condition number 1.14e+40. Standard errors may be unstable.\n"
          ]
        }
      ]
    },
    {
      "cell_type": "markdown",
      "source": [
        "diketahui bahwa nilai AR di angka `0` dengan MA di angka `2` pada model terbaiknya. dengan waktu season terbaik pada tiap hitungan bulan, didapati bahwa nilai AIC nya berada pada `1627` dan BIC pada angka `1635`."
      ],
      "metadata": {
        "id": "-rvst7ypp5cb"
      }
    },
    {
      "cell_type": "code",
      "source": [
        "# Split train & Test\n",
        "train = df_group[:66] \n",
        "test = df_group[66:] "
      ],
      "metadata": {
        "id": "a1ZHuE-QGhvT"
      },
      "execution_count": 89,
      "outputs": []
    },
    {
      "cell_type": "markdown",
      "source": [
        "memecah data train dan data tes. disini saya menggunakan 1 saja data tes dikarenakan model yang dituju hanya perlu memprediksi 1 minggu kedepan saja."
      ],
      "metadata": {
        "id": "eZpl5LDbqEao"
      }
    },
    {
      "cell_type": "markdown",
      "source": [
        "## Model Defination"
      ],
      "metadata": {
        "id": "R8vPMB8sNPxg"
      }
    },
    {
      "cell_type": "code",
      "source": [
        "model = ARIMA(train['quantity'],  \n",
        "                order = (0, 1, 2),  \n",
        "                seasonal_order =(0, 1, 1, 12)) \n",
        "  \n",
        "result = model.fit() \n",
        "result.summary() "
      ],
      "metadata": {
        "colab": {
          "base_uri": "https://localhost:8080/",
          "height": 469
        },
        "id": "a6SlDQ9jGqcp",
        "outputId": "6f40f361-5844-4618-fd3f-24bc57a6d8cc"
      },
      "execution_count": 90,
      "outputs": [
        {
          "output_type": "execute_result",
          "data": {
            "text/plain": [
              "<class 'statsmodels.iolib.summary.Summary'>\n",
              "\"\"\"\n",
              "                                     SARIMAX Results                                      \n",
              "==========================================================================================\n",
              "Dep. Variable:                           quantity   No. Observations:                   66\n",
              "Model:             ARIMA(0, 1, 2)x(0, 1, [1], 12)   Log Likelihood                -810.266\n",
              "Date:                            Sat, 15 Apr 2023   AIC                           1628.533\n",
              "Time:                                    09:02:23   BIC                           1636.414\n",
              "Sample:                                12-27-2021   HQIC                          1631.563\n",
              "                                     - 03-27-2023                                         \n",
              "Covariance Type:                              opg                                         \n",
              "==============================================================================\n",
              "                 coef    std err          z      P>|z|      [0.025      0.975]\n",
              "------------------------------------------------------------------------------\n",
              "ma.L1         -0.6697      0.120     -5.570      0.000      -0.905      -0.434\n",
              "ma.L2          0.1703      0.207      0.824      0.410      -0.235       0.575\n",
              "ma.S.L12      -0.8493      0.210     -4.043      0.000      -1.261      -0.438\n",
              "sigma2      1.193e+12   1.83e-13   6.52e+24      0.000    1.19e+12    1.19e+12\n",
              "===================================================================================\n",
              "Ljung-Box (L1) (Q):                   0.15   Jarque-Bera (JB):                21.22\n",
              "Prob(Q):                              0.70   Prob(JB):                         0.00\n",
              "Heteroskedasticity (H):               0.26   Skew:                             0.33\n",
              "Prob(H) (two-sided):                  0.01   Kurtosis:                         6.03\n",
              "===================================================================================\n",
              "\n",
              "Warnings:\n",
              "[1] Covariance matrix calculated using the outer product of gradients (complex-step).\n",
              "[2] Covariance matrix is singular or near-singular, with condition number 3.52e+40. Standard errors may be unstable.\n",
              "\"\"\""
            ],
            "text/html": [
              "<table class=\"simpletable\">\n",
              "<caption>SARIMAX Results</caption>\n",
              "<tr>\n",
              "  <th>Dep. Variable:</th>              <td>quantity</td>            <th>  No. Observations:  </th>    <td>66</td>   \n",
              "</tr>\n",
              "<tr>\n",
              "  <th>Model:</th>           <td>ARIMA(0, 1, 2)x(0, 1, [1], 12)</td> <th>  Log Likelihood     </th> <td>-810.266</td>\n",
              "</tr>\n",
              "<tr>\n",
              "  <th>Date:</th>                   <td>Sat, 15 Apr 2023</td>        <th>  AIC                </th> <td>1628.533</td>\n",
              "</tr>\n",
              "<tr>\n",
              "  <th>Time:</th>                       <td>09:02:23</td>            <th>  BIC                </th> <td>1636.414</td>\n",
              "</tr>\n",
              "<tr>\n",
              "  <th>Sample:</th>                    <td>12-27-2021</td>           <th>  HQIC               </th> <td>1631.563</td>\n",
              "</tr>\n",
              "<tr>\n",
              "  <th></th>                          <td>- 03-27-2023</td>          <th>                     </th>     <td> </td>   \n",
              "</tr>\n",
              "<tr>\n",
              "  <th>Covariance Type:</th>               <td>opg</td>              <th>                     </th>     <td> </td>   \n",
              "</tr>\n",
              "</table>\n",
              "<table class=\"simpletable\">\n",
              "<tr>\n",
              "      <td></td>        <th>coef</th>     <th>std err</th>      <th>z</th>      <th>P>|z|</th>  <th>[0.025</th>    <th>0.975]</th>  \n",
              "</tr>\n",
              "<tr>\n",
              "  <th>ma.L1</th>    <td>   -0.6697</td> <td>    0.120</td> <td>   -5.570</td> <td> 0.000</td> <td>   -0.905</td> <td>   -0.434</td>\n",
              "</tr>\n",
              "<tr>\n",
              "  <th>ma.L2</th>    <td>    0.1703</td> <td>    0.207</td> <td>    0.824</td> <td> 0.410</td> <td>   -0.235</td> <td>    0.575</td>\n",
              "</tr>\n",
              "<tr>\n",
              "  <th>ma.S.L12</th> <td>   -0.8493</td> <td>    0.210</td> <td>   -4.043</td> <td> 0.000</td> <td>   -1.261</td> <td>   -0.438</td>\n",
              "</tr>\n",
              "<tr>\n",
              "  <th>sigma2</th>   <td> 1.193e+12</td> <td> 1.83e-13</td> <td> 6.52e+24</td> <td> 0.000</td> <td> 1.19e+12</td> <td> 1.19e+12</td>\n",
              "</tr>\n",
              "</table>\n",
              "<table class=\"simpletable\">\n",
              "<tr>\n",
              "  <th>Ljung-Box (L1) (Q):</th>     <td>0.15</td> <th>  Jarque-Bera (JB):  </th> <td>21.22</td>\n",
              "</tr>\n",
              "<tr>\n",
              "  <th>Prob(Q):</th>                <td>0.70</td> <th>  Prob(JB):          </th> <td>0.00</td> \n",
              "</tr>\n",
              "<tr>\n",
              "  <th>Heteroskedasticity (H):</th> <td>0.26</td> <th>  Skew:              </th> <td>0.33</td> \n",
              "</tr>\n",
              "<tr>\n",
              "  <th>Prob(H) (two-sided):</th>    <td>0.01</td> <th>  Kurtosis:          </th> <td>6.03</td> \n",
              "</tr>\n",
              "</table><br/><br/>Warnings:<br/>[1] Covariance matrix calculated using the outer product of gradients (complex-step).<br/>[2] Covariance matrix is singular or near-singular, with condition number 3.52e+40. Standard errors may be unstable."
            ]
          },
          "metadata": {},
          "execution_count": 90
        }
      ]
    },
    {
      "cell_type": "markdown",
      "source": [
        "SARIMA (Seasonal Autoregressive Integrated Moving Average) adalah model statistik untuk memodelkan deret waktu yang mengandung pola musiman dan tren.\n",
        "\n",
        "Model SARIMA memperluas model ARIMA (Autoregressive Integrated Moving Average) dengan memasukkan komponen musiman, sehingga dapat menangani deret waktu dengan fluktuasi musiman.\n",
        "\n",
        "Model SARIMA umumnya digunakan dalam analisis deret waktu untuk memprediksi nilai masa depan dan mengevaluasi dampak peristiwa tertentu pada deret waktu."
      ],
      "metadata": {
        "id": "2OguAJpBqi3q"
      }
    },
    {
      "cell_type": "markdown",
      "source": [
        "## Model Training"
      ],
      "metadata": {
        "id": "liWiAkl4Niqe"
      }
    },
    {
      "cell_type": "markdown",
      "source": [
        "### prediksi data latihan"
      ],
      "metadata": {
        "id": "EdUI0xf_qy5O"
      }
    },
    {
      "cell_type": "code",
      "source": [
        "#Train prediction\n",
        "start_index = 0\n",
        "end_index = len(train)-1\n",
        "train_prediction = result.predict(start_index, end_index) \n",
        "pd.DataFrame(train_prediction)"
      ],
      "metadata": {
        "colab": {
          "base_uri": "https://localhost:8080/",
          "height": 424
        },
        "id": "i5v0Gf08G8uk",
        "outputId": "9fafc113-d355-4cd3-de78-3b61746c2b1a"
      },
      "execution_count": 91,
      "outputs": [
        {
          "output_type": "execute_result",
          "data": {
            "text/plain": [
              "            predicted_mean\n",
              "2021-12-27    0.000000e+00\n",
              "2022-01-03    6.048170e+04\n",
              "2022-01-10    1.386451e+06\n",
              "2022-01-17    2.903364e+06\n",
              "2022-01-24    3.781340e+06\n",
              "...                    ...\n",
              "2023-02-27    4.916087e+06\n",
              "2023-03-06    4.483389e+06\n",
              "2023-03-13    4.598727e+06\n",
              "2023-03-20    4.602047e+06\n",
              "2023-03-27    4.371821e+06\n",
              "\n",
              "[66 rows x 1 columns]"
            ],
            "text/html": [
              "\n",
              "  <div id=\"df-d779553f-b15a-4067-af8c-7a1517b95bd9\">\n",
              "    <div class=\"colab-df-container\">\n",
              "      <div>\n",
              "<style scoped>\n",
              "    .dataframe tbody tr th:only-of-type {\n",
              "        vertical-align: middle;\n",
              "    }\n",
              "\n",
              "    .dataframe tbody tr th {\n",
              "        vertical-align: top;\n",
              "    }\n",
              "\n",
              "    .dataframe thead th {\n",
              "        text-align: right;\n",
              "    }\n",
              "</style>\n",
              "<table border=\"1\" class=\"dataframe\">\n",
              "  <thead>\n",
              "    <tr style=\"text-align: right;\">\n",
              "      <th></th>\n",
              "      <th>predicted_mean</th>\n",
              "    </tr>\n",
              "  </thead>\n",
              "  <tbody>\n",
              "    <tr>\n",
              "      <th>2021-12-27</th>\n",
              "      <td>0.000000e+00</td>\n",
              "    </tr>\n",
              "    <tr>\n",
              "      <th>2022-01-03</th>\n",
              "      <td>6.048170e+04</td>\n",
              "    </tr>\n",
              "    <tr>\n",
              "      <th>2022-01-10</th>\n",
              "      <td>1.386451e+06</td>\n",
              "    </tr>\n",
              "    <tr>\n",
              "      <th>2022-01-17</th>\n",
              "      <td>2.903364e+06</td>\n",
              "    </tr>\n",
              "    <tr>\n",
              "      <th>2022-01-24</th>\n",
              "      <td>3.781340e+06</td>\n",
              "    </tr>\n",
              "    <tr>\n",
              "      <th>...</th>\n",
              "      <td>...</td>\n",
              "    </tr>\n",
              "    <tr>\n",
              "      <th>2023-02-27</th>\n",
              "      <td>4.916087e+06</td>\n",
              "    </tr>\n",
              "    <tr>\n",
              "      <th>2023-03-06</th>\n",
              "      <td>4.483389e+06</td>\n",
              "    </tr>\n",
              "    <tr>\n",
              "      <th>2023-03-13</th>\n",
              "      <td>4.598727e+06</td>\n",
              "    </tr>\n",
              "    <tr>\n",
              "      <th>2023-03-20</th>\n",
              "      <td>4.602047e+06</td>\n",
              "    </tr>\n",
              "    <tr>\n",
              "      <th>2023-03-27</th>\n",
              "      <td>4.371821e+06</td>\n",
              "    </tr>\n",
              "  </tbody>\n",
              "</table>\n",
              "<p>66 rows × 1 columns</p>\n",
              "</div>\n",
              "      <button class=\"colab-df-convert\" onclick=\"convertToInteractive('df-d779553f-b15a-4067-af8c-7a1517b95bd9')\"\n",
              "              title=\"Convert this dataframe to an interactive table.\"\n",
              "              style=\"display:none;\">\n",
              "        \n",
              "  <svg xmlns=\"http://www.w3.org/2000/svg\" height=\"24px\"viewBox=\"0 0 24 24\"\n",
              "       width=\"24px\">\n",
              "    <path d=\"M0 0h24v24H0V0z\" fill=\"none\"/>\n",
              "    <path d=\"M18.56 5.44l.94 2.06.94-2.06 2.06-.94-2.06-.94-.94-2.06-.94 2.06-2.06.94zm-11 1L8.5 8.5l.94-2.06 2.06-.94-2.06-.94L8.5 2.5l-.94 2.06-2.06.94zm10 10l.94 2.06.94-2.06 2.06-.94-2.06-.94-.94-2.06-.94 2.06-2.06.94z\"/><path d=\"M17.41 7.96l-1.37-1.37c-.4-.4-.92-.59-1.43-.59-.52 0-1.04.2-1.43.59L10.3 9.45l-7.72 7.72c-.78.78-.78 2.05 0 2.83L4 21.41c.39.39.9.59 1.41.59.51 0 1.02-.2 1.41-.59l7.78-7.78 2.81-2.81c.8-.78.8-2.07 0-2.86zM5.41 20L4 18.59l7.72-7.72 1.47 1.35L5.41 20z\"/>\n",
              "  </svg>\n",
              "      </button>\n",
              "      \n",
              "  <style>\n",
              "    .colab-df-container {\n",
              "      display:flex;\n",
              "      flex-wrap:wrap;\n",
              "      gap: 12px;\n",
              "    }\n",
              "\n",
              "    .colab-df-convert {\n",
              "      background-color: #E8F0FE;\n",
              "      border: none;\n",
              "      border-radius: 50%;\n",
              "      cursor: pointer;\n",
              "      display: none;\n",
              "      fill: #1967D2;\n",
              "      height: 32px;\n",
              "      padding: 0 0 0 0;\n",
              "      width: 32px;\n",
              "    }\n",
              "\n",
              "    .colab-df-convert:hover {\n",
              "      background-color: #E2EBFA;\n",
              "      box-shadow: 0px 1px 2px rgba(60, 64, 67, 0.3), 0px 1px 3px 1px rgba(60, 64, 67, 0.15);\n",
              "      fill: #174EA6;\n",
              "    }\n",
              "\n",
              "    [theme=dark] .colab-df-convert {\n",
              "      background-color: #3B4455;\n",
              "      fill: #D2E3FC;\n",
              "    }\n",
              "\n",
              "    [theme=dark] .colab-df-convert:hover {\n",
              "      background-color: #434B5C;\n",
              "      box-shadow: 0px 1px 3px 1px rgba(0, 0, 0, 0.15);\n",
              "      filter: drop-shadow(0px 1px 2px rgba(0, 0, 0, 0.3));\n",
              "      fill: #FFFFFF;\n",
              "    }\n",
              "  </style>\n",
              "\n",
              "      <script>\n",
              "        const buttonEl =\n",
              "          document.querySelector('#df-d779553f-b15a-4067-af8c-7a1517b95bd9 button.colab-df-convert');\n",
              "        buttonEl.style.display =\n",
              "          google.colab.kernel.accessAllowed ? 'block' : 'none';\n",
              "\n",
              "        async function convertToInteractive(key) {\n",
              "          const element = document.querySelector('#df-d779553f-b15a-4067-af8c-7a1517b95bd9');\n",
              "          const dataTable =\n",
              "            await google.colab.kernel.invokeFunction('convertToInteractive',\n",
              "                                                     [key], {});\n",
              "          if (!dataTable) return;\n",
              "\n",
              "          const docLinkHtml = 'Like what you see? Visit the ' +\n",
              "            '<a target=\"_blank\" href=https://colab.research.google.com/notebooks/data_table.ipynb>data table notebook</a>'\n",
              "            + ' to learn more about interactive tables.';\n",
              "          element.innerHTML = '';\n",
              "          dataTable['output_type'] = 'display_data';\n",
              "          await google.colab.output.renderOutput(dataTable, element);\n",
              "          const docLink = document.createElement('div');\n",
              "          docLink.innerHTML = docLinkHtml;\n",
              "          element.appendChild(docLink);\n",
              "        }\n",
              "      </script>\n",
              "    </div>\n",
              "  </div>\n",
              "  "
            ]
          },
          "metadata": {},
          "execution_count": 91
        }
      ]
    },
    {
      "cell_type": "markdown",
      "source": [
        "#### model evaluation"
      ],
      "metadata": {
        "id": "J97lgXE0wkWZ"
      }
    },
    {
      "cell_type": "code",
      "source": [
        "print('MAE train = ', mean_absolute_error(train, train_prediction))\n",
        "print('MAPE train = ', mean_absolute_percentage_error(train, train_prediction))"
      ],
      "metadata": {
        "colab": {
          "base_uri": "https://localhost:8080/"
        },
        "id": "zAHNnkcRHWyD",
        "outputId": "a33ef316-30dc-46ec-830e-35342c5f83c1"
      },
      "execution_count": 296,
      "outputs": [
        {
          "output_type": "stream",
          "name": "stdout",
          "text": [
            "MAE train =  804969.2156529878\n",
            "MAPE train =  0.21087661138975677\n"
          ]
        }
      ]
    },
    {
      "cell_type": "markdown",
      "source": [
        "dari model SARIMA yang diperoleh untuk memprediksi semua data latihan, didapati bahwa model mampu memprediksi dengan tingkat MAPE sebesar 21% dengan MAE sebesar 804969 pcs."
      ],
      "metadata": {
        "id": "vSA45x3Pq71u"
      }
    },
    {
      "cell_type": "markdown",
      "source": [
        "### prediksi data tes"
      ],
      "metadata": {
        "id": "fV-Pzm0ysM8D"
      }
    },
    {
      "cell_type": "code",
      "source": [
        "#Prediction\n",
        "start_index = len(train)\n",
        "end_index = len(df_group)-1\n",
        "prediction = result.predict(start_index, end_index).rename('Predicted quantity')  #Rename the column\n",
        "prediction"
      ],
      "metadata": {
        "colab": {
          "base_uri": "https://localhost:8080/"
        },
        "id": "0lm831h0HlXu",
        "outputId": "b1f9fa20-1858-4b71-97b2-0ae93d43ecab"
      },
      "execution_count": 324,
      "outputs": [
        {
          "output_type": "execute_result",
          "data": {
            "text/plain": [
              "2023-04-03    4.388863e+06\n",
              "Freq: W-MON, Name: Predicted quantity, dtype: float64"
            ]
          },
          "metadata": {},
          "execution_count": 324
        }
      ]
    },
    {
      "cell_type": "code",
      "source": [
        "test"
      ],
      "metadata": {
        "colab": {
          "base_uri": "https://localhost:8080/",
          "height": 112
        },
        "id": "t8vcY3T7NArJ",
        "outputId": "a02b2092-70d5-4e5f-f907-b909e16741d8"
      },
      "execution_count": 325,
      "outputs": [
        {
          "output_type": "execute_result",
          "data": {
            "text/plain": [
              "                 quantity\n",
              "week_start_date          \n",
              "2023-04-03        4172070"
            ],
            "text/html": [
              "\n",
              "  <div id=\"df-7c71d53d-c7f3-492c-b6d4-11eae3674935\">\n",
              "    <div class=\"colab-df-container\">\n",
              "      <div>\n",
              "<style scoped>\n",
              "    .dataframe tbody tr th:only-of-type {\n",
              "        vertical-align: middle;\n",
              "    }\n",
              "\n",
              "    .dataframe tbody tr th {\n",
              "        vertical-align: top;\n",
              "    }\n",
              "\n",
              "    .dataframe thead th {\n",
              "        text-align: right;\n",
              "    }\n",
              "</style>\n",
              "<table border=\"1\" class=\"dataframe\">\n",
              "  <thead>\n",
              "    <tr style=\"text-align: right;\">\n",
              "      <th></th>\n",
              "      <th>quantity</th>\n",
              "    </tr>\n",
              "    <tr>\n",
              "      <th>week_start_date</th>\n",
              "      <th></th>\n",
              "    </tr>\n",
              "  </thead>\n",
              "  <tbody>\n",
              "    <tr>\n",
              "      <th>2023-04-03</th>\n",
              "      <td>4172070</td>\n",
              "    </tr>\n",
              "  </tbody>\n",
              "</table>\n",
              "</div>\n",
              "      <button class=\"colab-df-convert\" onclick=\"convertToInteractive('df-7c71d53d-c7f3-492c-b6d4-11eae3674935')\"\n",
              "              title=\"Convert this dataframe to an interactive table.\"\n",
              "              style=\"display:none;\">\n",
              "        \n",
              "  <svg xmlns=\"http://www.w3.org/2000/svg\" height=\"24px\"viewBox=\"0 0 24 24\"\n",
              "       width=\"24px\">\n",
              "    <path d=\"M0 0h24v24H0V0z\" fill=\"none\"/>\n",
              "    <path d=\"M18.56 5.44l.94 2.06.94-2.06 2.06-.94-2.06-.94-.94-2.06-.94 2.06-2.06.94zm-11 1L8.5 8.5l.94-2.06 2.06-.94-2.06-.94L8.5 2.5l-.94 2.06-2.06.94zm10 10l.94 2.06.94-2.06 2.06-.94-2.06-.94-.94-2.06-.94 2.06-2.06.94z\"/><path d=\"M17.41 7.96l-1.37-1.37c-.4-.4-.92-.59-1.43-.59-.52 0-1.04.2-1.43.59L10.3 9.45l-7.72 7.72c-.78.78-.78 2.05 0 2.83L4 21.41c.39.39.9.59 1.41.59.51 0 1.02-.2 1.41-.59l7.78-7.78 2.81-2.81c.8-.78.8-2.07 0-2.86zM5.41 20L4 18.59l7.72-7.72 1.47 1.35L5.41 20z\"/>\n",
              "  </svg>\n",
              "      </button>\n",
              "      \n",
              "  <style>\n",
              "    .colab-df-container {\n",
              "      display:flex;\n",
              "      flex-wrap:wrap;\n",
              "      gap: 12px;\n",
              "    }\n",
              "\n",
              "    .colab-df-convert {\n",
              "      background-color: #E8F0FE;\n",
              "      border: none;\n",
              "      border-radius: 50%;\n",
              "      cursor: pointer;\n",
              "      display: none;\n",
              "      fill: #1967D2;\n",
              "      height: 32px;\n",
              "      padding: 0 0 0 0;\n",
              "      width: 32px;\n",
              "    }\n",
              "\n",
              "    .colab-df-convert:hover {\n",
              "      background-color: #E2EBFA;\n",
              "      box-shadow: 0px 1px 2px rgba(60, 64, 67, 0.3), 0px 1px 3px 1px rgba(60, 64, 67, 0.15);\n",
              "      fill: #174EA6;\n",
              "    }\n",
              "\n",
              "    [theme=dark] .colab-df-convert {\n",
              "      background-color: #3B4455;\n",
              "      fill: #D2E3FC;\n",
              "    }\n",
              "\n",
              "    [theme=dark] .colab-df-convert:hover {\n",
              "      background-color: #434B5C;\n",
              "      box-shadow: 0px 1px 3px 1px rgba(0, 0, 0, 0.15);\n",
              "      filter: drop-shadow(0px 1px 2px rgba(0, 0, 0, 0.3));\n",
              "      fill: #FFFFFF;\n",
              "    }\n",
              "  </style>\n",
              "\n",
              "      <script>\n",
              "        const buttonEl =\n",
              "          document.querySelector('#df-7c71d53d-c7f3-492c-b6d4-11eae3674935 button.colab-df-convert');\n",
              "        buttonEl.style.display =\n",
              "          google.colab.kernel.accessAllowed ? 'block' : 'none';\n",
              "\n",
              "        async function convertToInteractive(key) {\n",
              "          const element = document.querySelector('#df-7c71d53d-c7f3-492c-b6d4-11eae3674935');\n",
              "          const dataTable =\n",
              "            await google.colab.kernel.invokeFunction('convertToInteractive',\n",
              "                                                     [key], {});\n",
              "          if (!dataTable) return;\n",
              "\n",
              "          const docLinkHtml = 'Like what you see? Visit the ' +\n",
              "            '<a target=\"_blank\" href=https://colab.research.google.com/notebooks/data_table.ipynb>data table notebook</a>'\n",
              "            + ' to learn more about interactive tables.';\n",
              "          element.innerHTML = '';\n",
              "          dataTable['output_type'] = 'display_data';\n",
              "          await google.colab.output.renderOutput(dataTable, element);\n",
              "          const docLink = document.createElement('div');\n",
              "          docLink.innerHTML = docLinkHtml;\n",
              "          element.appendChild(docLink);\n",
              "        }\n",
              "      </script>\n",
              "    </div>\n",
              "  </div>\n",
              "  "
            ]
          },
          "metadata": {},
          "execution_count": 325
        }
      ]
    },
    {
      "cell_type": "markdown",
      "source": [
        "#### model evaluation"
      ],
      "metadata": {
        "id": "0soB-yoHwqgJ"
      }
    },
    {
      "cell_type": "code",
      "source": [
        "print('MAE test = ', mean_absolute_error(test, prediction))\n",
        "print('MAPE test = ', mean_absolute_percentage_error(test, prediction))"
      ],
      "metadata": {
        "colab": {
          "base_uri": "https://localhost:8080/"
        },
        "id": "KybsInbyHxN3",
        "outputId": "bc53f51b-4278-47d3-a973-1299bac2da95"
      },
      "execution_count": 327,
      "outputs": [
        {
          "output_type": "stream",
          "name": "stdout",
          "text": [
            "MAE test =  216793.0551706776\n",
            "MAPE test =  0.051962947690397714\n"
          ]
        }
      ]
    },
    {
      "cell_type": "markdown",
      "source": [
        "dengan menguji model ke 1 data tes yang kita miliki, didapati bahwa model dapat memprediksi dengan nilai MAPE di kisaran 5,2% dengan MAE sebesar 216793 pcs."
      ],
      "metadata": {
        "id": "kowTmk_ut5Sg"
      }
    },
    {
      "cell_type": "markdown",
      "source": [
        "### rata-rata prediksi pada 3 minggu sebelumnya. "
      ],
      "metadata": {
        "id": "BHStVJkFuedp"
      }
    },
    {
      "cell_type": "code",
      "source": [
        "#Prediction\n",
        "start_index = len(train)\n",
        "end_index = len(df_group)-1\n",
        "prediction_0 = result.predict(start_index, end_index).rename('Predicted quantity')  #Rename the column\n",
        "prediction_0"
      ],
      "metadata": {
        "colab": {
          "base_uri": "https://localhost:8080/"
        },
        "id": "7moV1DZzuoTG",
        "outputId": "3d22f00a-ba2c-4529-9f4d-8e5debc6714b"
      },
      "execution_count": 328,
      "outputs": [
        {
          "output_type": "execute_result",
          "data": {
            "text/plain": [
              "2023-04-03    4.388863e+06\n",
              "Freq: W-MON, Name: Predicted quantity, dtype: float64"
            ]
          },
          "metadata": {},
          "execution_count": 328
        }
      ]
    },
    {
      "cell_type": "code",
      "source": [
        "start_index = len(train)-1\n",
        "end_index = len(df_group)-2\n",
        "prediction_1 = result.predict(start_index, end_index).rename('Predicted quantity')  #Rename the column\n",
        "prediction_1"
      ],
      "metadata": {
        "colab": {
          "base_uri": "https://localhost:8080/"
        },
        "id": "85J_uMlvuvLl",
        "outputId": "654aa456-46ab-4712-b6f2-e77def24e820"
      },
      "execution_count": 329,
      "outputs": [
        {
          "output_type": "execute_result",
          "data": {
            "text/plain": [
              "2023-03-27    4.371821e+06\n",
              "Freq: W-MON, Name: Predicted quantity, dtype: float64"
            ]
          },
          "metadata": {},
          "execution_count": 329
        }
      ]
    },
    {
      "cell_type": "code",
      "source": [
        "start_index = len(train)-2\n",
        "end_index = len(df_group)-3\n",
        "prediction_2 = result.predict(start_index, end_index).rename('Predicted quantity')  #Rename the column\n",
        "prediction_2"
      ],
      "metadata": {
        "colab": {
          "base_uri": "https://localhost:8080/"
        },
        "id": "eV5EsDlmuxSb",
        "outputId": "81b1d631-584a-40d9-d0f5-b608d07f7fbd"
      },
      "execution_count": 330,
      "outputs": [
        {
          "output_type": "execute_result",
          "data": {
            "text/plain": [
              "2023-03-20    4.602047e+06\n",
              "Freq: W-MON, Name: Predicted quantity, dtype: float64"
            ]
          },
          "metadata": {},
          "execution_count": 330
        }
      ]
    },
    {
      "cell_type": "markdown",
      "source": [
        "#### model evaluation"
      ],
      "metadata": {
        "id": "OkSUQSUzwuBy"
      }
    },
    {
      "cell_type": "code",
      "source": [
        "print('MAE test 2023-04-03 = ', mean_absolute_error(test, prediction_0))\n",
        "print('MAE test 2023-03-27 = ', mean_absolute_error(train[-1:], prediction_1))\n",
        "print('MAE test 2023-03-20 = ', mean_absolute_error(train[-2:-1], prediction_2))"
      ],
      "metadata": {
        "colab": {
          "base_uri": "https://localhost:8080/"
        },
        "id": "55AdUj8RvGwN",
        "outputId": "6c37fff9-f8b9-4232-dd9e-9a4646208083"
      },
      "execution_count": 332,
      "outputs": [
        {
          "output_type": "stream",
          "name": "stdout",
          "text": [
            "MAE test 2023-04-03 =  216793.0551706776\n",
            "MAE test 2023-03-27 =  1629345.2591375988\n",
            "MAE test 2023-03-20 =  155543.05315025058\n"
          ]
        }
      ]
    },
    {
      "cell_type": "code",
      "source": [
        "(216793+1629345+155543)/3"
      ],
      "metadata": {
        "colab": {
          "base_uri": "https://localhost:8080/"
        },
        "id": "FutYWMr1tSoT",
        "outputId": "6bbca4de-46e0-47ce-b792-ab5149693d08"
      },
      "execution_count": 323,
      "outputs": [
        {
          "output_type": "execute_result",
          "data": {
            "text/plain": [
              "667227.0"
            ]
          },
          "metadata": {},
          "execution_count": 323
        }
      ]
    },
    {
      "cell_type": "markdown",
      "source": [
        "bila saya lakukan prediksi mundur, maka nilai MAE yang didapat sebesar `667227` pcs."
      ],
      "metadata": {
        "id": "T1XnwauUvtzz"
      }
    },
    {
      "cell_type": "markdown",
      "source": [
        "## Forecasting"
      ],
      "metadata": {
        "id": "SdpcnObiNqmU"
      }
    },
    {
      "cell_type": "code",
      "source": [
        "forecast = result.predict(start = len(train),  \n",
        "                          end = (len(df_group)),  \n",
        "                          typ = 'levels').rename('Forecast') \n",
        "print('---'*15)\n",
        "print('forecasting on this week and next week')\n",
        "print(forecast)\n",
        "print('---'*15)\n",
        "  \n",
        "plt.figure(figsize=(12,8))\n",
        "plt.plot(df_group, label='Training', color='green')\n",
        "plt.plot(forecast, label='Forecast', color='red')\n",
        "plt.legend(loc='upper left')\n",
        "plt.show()"
      ],
      "metadata": {
        "colab": {
          "base_uri": "https://localhost:8080/",
          "height": 795
        },
        "id": "JJv9BdJ9KXtO",
        "outputId": "435377ac-6ba5-4c5d-e8b9-f79ec701343d"
      },
      "execution_count": 284,
      "outputs": [
        {
          "output_type": "stream",
          "name": "stdout",
          "text": [
            "---------------------------------------------\n",
            "forecasting on this week and next week\n",
            "2023-04-03    4.388863e+06\n",
            "2023-04-10    5.798467e+06\n",
            "Freq: W-MON, Name: Forecast, dtype: float64\n",
            "---------------------------------------------\n"
          ]
        },
        {
          "output_type": "display_data",
          "data": {
            "text/plain": [
              "<Figure size 1200x800 with 1 Axes>"
            ],
            "image/png": "[encoded data removed]"
          },
          "metadata": {}
        }
      ]
    },
    {
      "cell_type": "markdown",
      "source": [
        "dengan melihat nilai MAE dan MAPE di minggu sebelumnya, saya memprediksi bahwa total penjualan di minggu ke 15 tahun 2023 berkisar `5,8e+06` dengan asumsi range MAE yang hampir sama dengan minggu ke 14 tahun 2023."
      ],
      "metadata": {
        "id": "ttbWAaB-wFRd"
      }
    },
    {
      "cell_type": "markdown",
      "source": [
        "# Conclusion"
      ],
      "metadata": {
        "id": "FiUOnRFq6oYk"
      }
    },
    {
      "cell_type": "markdown",
      "source": [
        "### EDA insight"
      ],
      "metadata": {
        "id": "X0n8u2Dex_ex"
      }
    },
    {
      "cell_type": "markdown",
      "source": [
        "pada dataset yang digunakan kali ini, terdapat total data sejumlah 102733 baris dengan 5 kolom yang berbeda. ditemukan pula beberapa data yang kosong, namun hal ini tidak begitu berpengaruh dikarenakan nantinya data akan dikelompokkan berdasarkan tiap minggu-nya. data tersebar ke 67 minggu yang dimulai dari minggu ke 52 tahun 2021 sampai minggu ke 14 tahun 2023. hasil perbandingan di 14 minggu pertama pada tahun 2022 dan 2023, penjualan produk mengalami kenaikan sebanyak lebih dari 3 juta unit. \n",
        "\n",
        "bila ditinjau dari segi bisnisnya, masih terdapat banyak jenis produk yang tidak laku dipasaran, hal ini dapat saya simpulkan berdasarkan banyaknya temuan penjualan jenis produk yang terjual hanya 2 unit saja pada tahun 2022. saya merekomendasikan untuk menghilangkan jenis produk dengan penjualan yang sangat rendah agar biaya yang dikeluarkan oleh perusahaan dapat ditekan seminimal mungkin. bila ditinjau dari sejarahnya, penjualan pada minggu mendekati *idul fitri* akan mengalami kenaikan. sehingga, dalam jangka pendek, saya merekomendasikan untuk mempersiapkan ketersediaan stok produk. Menurut informasi terbaru pada tanggal 15 april, diketahui bahwa akan ada kesulitan pengiriman pada minggu menjelang dan sesudah *idul fitri* dikarenakan tidak boleh beroperasinya truk sumbu 3 pada minggu dekat-dekat itu."
      ],
      "metadata": {
        "id": "vmSXleFCyEVs"
      }
    },
    {
      "cell_type": "markdown",
      "source": [
        "### Model insight"
      ],
      "metadata": {
        "id": "Zh_SKmwZ00IU"
      }
    },
    {
      "cell_type": "markdown",
      "source": [
        "pada model kali ini, saya menggunakan SARIMA sebagai dasar *forecasting* yang saya lakukan. SARIMA itu sendiri adalah model statistik yang digunakan untuk memodelkan deret waktu dengan komponen musiman sehingga luas lingkupnya lebih besar ketimbang ARIMA. \n",
        "\n",
        "Saya tidak melakukan handling outlier pada data kali ini, hal ini dikarenakan saya mengetahui bahwa data yang diperoleh merupakan data yang original/natural. data cleaning pada data yang kosong pun saya lewati dikarenakan nantinya data tersebut akan saya gabungkan berdasarkan tiap minggunya sehingga data yang hilang tersebut akan dihilangkan semuanya.\n",
        "\n",
        "Dengan pencarian AR dan MA terbaik, didapati bahwa model SARIMA terbaik memiliki parameter `(0, 1, 2)x(0, 1, [1], 12`. Dengan melakukan prediksi di minggu terakhir pada data yang disediakan, didapati nilai MAPE nya kurang dari `5,2%` dengan MAE sebesar `216793` unit. namun, bila dilihat dari 3 minggu, rata-rata nilai MAE meningkat menjadi `667227` unit. dengan nilai p-value yang kecil tidak menutup kemungkinan bahwa model dapat memprediksi akurat. hal ini dapat dilihat dengan melihat nilai MAE pada minggu ke 13 tahun 2023 yang memiliki nilai MAE sangat tinggi.\n",
        "\n",
        "Dengan nilai MAE di minggu ke 14 tahun 2023, maka saya berasumsi bahwa model dapat melakukan forecast untuk minggu ke 15 tahun 2023 dengan nilai `5.8e+6` dengan nilai MAE yang masih dikisaran pada minggu sebelumnya."
      ],
      "metadata": {
        "id": "J1xdBprf04U2"
      }
    },
    {
      "cell_type": "markdown",
      "source": [
        "## Saran Kedepannya."
      ],
      "metadata": {
        "id": "h3Cxe_Q14n62"
      }
    },
    {
      "cell_type": "markdown",
      "source": [
        "dengan melihat dari semua aspek yang telah saya paparkan, maka diperlukannya data yang lebih banyak setidaknya 104 minggu atau 2 tahun rentangnya. hal ini untuk memastikan apakah data yang dimiliki benar-benar memiliki `season` di tiap tahunnya atau dia hanya `fluke` pada bulan tersebut. selain itu, perlu di-coba pada model lainnya seperti LSTM (Long Short-Term Memory) untuk memprediksi data *time-series* kali ini. "
      ],
      "metadata": {
        "id": "fmPWH8eH41Ao"
      }
    }
  ]
}